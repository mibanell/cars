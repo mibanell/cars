{
 "cells": [
  {
   "cell_type": "markdown",
   "metadata": {},
   "source": [
    "# Create model arquitecture"
   ]
  },
  {
   "cell_type": "code",
   "execution_count": 30,
   "metadata": {},
   "outputs": [
    {
     "name": "stdout",
     "output_type": "stream",
     "text": [
      "The autoreload extension is already loaded. To reload it, use:\n",
      "  %reload_ext autoreload\n"
     ]
    }
   ],
   "source": [
    "from tensorflow.keras import layers\n",
    "from tensorflow import keras, dtypes\n",
    "from tensorflow.data import Dataset\n",
    "from tensorflow import feature_column\n",
    "\n",
    "from preprocess_tf import preprocessing_fn\n",
    "\n",
    "import matplotlib.pyplot as plt\n",
    "import pandas as pd\n",
    "import numpy as np\n",
    "\n",
    "import tensorflow_docs as tfdocs\n",
    "import tensorflow_docs.plots\n",
    "import tensorflow_docs.modeling\n",
    "\n",
    "\n",
    "%load_ext autoreload\n",
    "%autoreload 2\n"
   ]
  },
  {
   "cell_type": "code",
   "execution_count": 3,
   "metadata": {},
   "outputs": [],
   "source": [
    "# A utility method to create a tf.data dataset from a Pandas Dataframe\n",
    "def df_to_dataset(dataframe, target_name, shuffle=True, batch_size=100):\n",
    "    dataframe = dataframe.copy()\n",
    "    targets = dataframe.pop(target_name)\n",
    "    ds = Dataset.from_tensor_slices((dict(dataframe), targets))\n",
    "    if shuffle:\n",
    "        ds = ds.shuffle(buffer_size=len(dataframe))\n",
    "    ds = ds.batch(batch_size)\n",
    "    return ds"
   ]
  },
  {
   "cell_type": "code",
   "execution_count": 4,
   "metadata": {},
   "outputs": [],
   "source": [
    "def set_numerical_feature(name):\n",
    "    \n",
    "    numerical_feature = feature_column.numeric_column(name, dtype=dtypes.float64)\n",
    "    \n",
    "    return numerical_feature\n",
    "    \n",
    "def set_one_hot_feature(name, data):\n",
    "    one_hot_feature = feature_column.categorical_column_with_vocabulary_list(name, data[name].unique().tolist())\n",
    "    one_hot_feature = feature_column.indicator_column(one_hot_feature)\n",
    "    \n",
    "    return one_hot_feature\n",
    "\n",
    "def set_embedding_feature(name, data, dims):\n",
    "    embedding_feature = feature_column.categorical_column_with_vocabulary_list(name, data[name].unique().tolist())\n",
    "    embedding_feature = feature_column.embedding_column(embedding_feature, dimension=dims)\n",
    "    \n",
    "    return embedding_feature"
   ]
  },
  {
   "cell_type": "code",
   "execution_count": 52,
   "metadata": {},
   "outputs": [],
   "source": [
    "def feature_columns(data, dataset):\n",
    "    \n",
    "    feature_columns = []\n",
    "\n",
    "    # numeric cols\n",
    "    for header in ['yearOfRegistration', 'powerPS', 'kilometer']:\n",
    "        feature_columns.append(set_numerical_feature(header))\n",
    "\n",
    "    feature_columns.append(set_one_hot_feature('abtest', data))\n",
    "    \n",
    "    feature_columns.append(set_embedding_feature('vehicleType', data, 5))\n",
    "    \n",
    "    feature_columns.append(set_one_hot_feature('gearbox', data))\n",
    "    \n",
    "    #feature_columns.append(set_embedding_feature('model', data, 15))\n",
    "    #feature_columns.append(set_one_hot_feature('model', data))\n",
    "    \n",
    "    feature_columns.append(set_one_hot_feature('fuelType', data))\n",
    "    \n",
    "    #feature_columns.append(set_embedding_feature('brand', data, 10))\n",
    "    #feature_columns.append(set_one_hot_feature('brand', data))\n",
    "    \n",
    "    feature_columns.append(set_one_hot_feature('notRepairedDamage', data))\n",
    "    \n",
    "    #feature_columns.append(set_embedding_feature('postalCode', data, 10))\n",
    "    feature_columns.append(set_one_hot_feature('cluster_pcode', data))\n",
    "    \n",
    "    feature_columns.append(set_one_hot_feature('cluster_model', data))\n",
    "    \n",
    "    feature_columns.append(set_one_hot_feature('cluster_brand', data))\n",
    "    \n",
    "\n",
    "    feature_layer = layers.DenseFeatures(feature_columns)\n",
    "    \n",
    "    return(feature_layer)"
   ]
  },
  {
   "cell_type": "code",
   "execution_count": 84,
   "metadata": {},
   "outputs": [
    {
     "name": "stdout",
     "output_type": "stream",
     "text": [
      "(165947, 12)\n",
      "(49444, 12)\n"
     ]
    }
   ],
   "source": [
    "train = preprocessing_fn(path='data/train.csv', na_encoding='data/gearbox_powerps_na.csv', norm_params='data/numerical_features_normalization.csv', brand_clusters='data/brand_clusters.csv', model_clusters='data/model_clusters.csv', postalcode_clusters='data/postalcode_clusters.csv')\n",
    "val = preprocessing_fn(path='data/val.csv', na_encoding='data/gearbox_powerps_na.csv', norm_params='data/numerical_features_normalization.csv', brand_clusters='data/brand_clusters.csv', model_clusters='data/model_clusters.csv', postalcode_clusters='data/postalcode_clusters.csv')\n",
    "\n",
    "print(train.shape)\n",
    "print(val.shape)"
   ]
  },
  {
   "cell_type": "code",
   "execution_count": 85,
   "metadata": {},
   "outputs": [
    {
     "data": {
      "text/plain": [
       "price                   int64\n",
       "abtest                 object\n",
       "vehicleType            object\n",
       "yearOfRegistration    float32\n",
       "gearbox                object\n",
       "powerPS               float32\n",
       "kilometer             float32\n",
       "fuelType               object\n",
       "notRepairedDamage      object\n",
       "cluster_brand           int32\n",
       "cluster_model           int32\n",
       "cluster_pcode           int32\n",
       "dtype: object"
      ]
     },
     "execution_count": 85,
     "metadata": {},
     "output_type": "execute_result"
    }
   ],
   "source": [
    "train.dtypes"
   ]
  },
  {
   "cell_type": "code",
   "execution_count": 86,
   "metadata": {},
   "outputs": [],
   "source": [
    "train_ds = df_to_dataset(dataframe=train, target_name='price', shuffle=True, batch_size=512)\n",
    "val_ds = df_to_dataset(dataframe=val, target_name='price', shuffle=True, batch_size=512)"
   ]
  },
  {
   "cell_type": "code",
   "execution_count": 87,
   "metadata": {},
   "outputs": [],
   "source": [
    "feature_layer = feature_columns(train, train_ds)"
   ]
  },
  {
   "cell_type": "code",
   "execution_count": 88,
   "metadata": {},
   "outputs": [
    {
     "name": "stdout",
     "output_type": "stream",
     "text": [
      "Epoch 1/10\n",
      "325/325 [==============================] - 6s 19ms/step - loss: 2783.1970 - mean_absolute_error: 2783.1970 - mean_squared_error: 13999833.0000 - val_loss: 3765.2078 - val_mean_absolute_error: 3765.2078 - val_mean_squared_error: 42689400.0000\n",
      "Epoch 2/10\n",
      "325/325 [==============================] - 6s 17ms/step - loss: 1257.0963 - mean_absolute_error: 1257.0963 - mean_squared_error: 3434831.7500 - val_loss: 2722.8188 - val_mean_absolute_error: 2722.8188 - val_mean_squared_error: 22684016.0000\n",
      "Epoch 3/10\n",
      "325/325 [==============================] - 6s 17ms/step - loss: 975.4496 - mean_absolute_error: 975.4496 - mean_squared_error: 2073456.5000 - val_loss: 2263.4150 - val_mean_absolute_error: 2263.4150 - val_mean_squared_error: 20775806.0000\n",
      "Epoch 4/10\n",
      "325/325 [==============================] - 6s 17ms/step - loss: 922.3260 - mean_absolute_error: 922.3260 - mean_squared_error: 1874135.3750 - val_loss: 2219.0054 - val_mean_absolute_error: 2219.0054 - val_mean_squared_error: 20828942.0000\n",
      "Epoch 5/10\n",
      "325/325 [==============================] - 6s 17ms/step - loss: 902.1662 - mean_absolute_error: 902.1662 - mean_squared_error: 1792717.5000 - val_loss: 2276.1274 - val_mean_absolute_error: 2276.1274 - val_mean_squared_error: 21677284.0000\n",
      "Epoch 6/10\n",
      "325/325 [==============================] - 6s 17ms/step - loss: 886.3553 - mean_absolute_error: 886.3553 - mean_squared_error: 1730489.5000 - val_loss: 2201.2847 - val_mean_absolute_error: 2201.2847 - val_mean_squared_error: 20945352.0000\n",
      "Epoch 7/10\n",
      "325/325 [==============================] - 6s 17ms/step - loss: 876.4503 - mean_absolute_error: 876.4503 - mean_squared_error: 1701480.3750 - val_loss: 2236.6694 - val_mean_absolute_error: 2236.6694 - val_mean_squared_error: 21853868.0000\n",
      "Epoch 8/10\n",
      "325/325 [==============================] - 6s 17ms/step - loss: 869.3678 - mean_absolute_error: 869.3678 - mean_squared_error: 1665629.2500 - val_loss: 2236.5005 - val_mean_absolute_error: 2236.5005 - val_mean_squared_error: 21850974.0000\n",
      "Epoch 9/10\n",
      "325/325 [==============================] - 6s 17ms/step - loss: 863.8631 - mean_absolute_error: 863.8631 - mean_squared_error: 1644665.1250 - val_loss: 2223.2288 - val_mean_absolute_error: 2223.2288 - val_mean_squared_error: 21339008.0000\n",
      "Epoch 10/10\n",
      "325/325 [==============================] - 6s 17ms/step - loss: 859.4517 - mean_absolute_error: 859.4517 - mean_squared_error: 1632367.2500 - val_loss: 2286.6902 - val_mean_absolute_error: 2286.6902 - val_mean_squared_error: 22781270.0000\n"
     ]
    },
    {
     "data": {
      "text/plain": [
       "[<matplotlib.lines.Line2D at 0x2a288e6aaf0>]"
      ]
     },
     "execution_count": 88,
     "metadata": {},
     "output_type": "execute_result"
    },
    {
     "data": {
      "image/png": "[encoded data removed]",
      "text/plain": [
       "<Figure size 432x288 with 1 Axes>"
      ]
     },
     "metadata": {
      "needs_background": "light"
     },
     "output_type": "display_data"
    }
   ],
   "source": [
    "dp_rate = 0.2\n",
    "lr = 0.001\n",
    "hu = 150\n",
    "\n",
    "model = keras.Sequential([\n",
    "    feature_layer,\n",
    "    layers.BatchNormalization(),\n",
    "    layers.Dense(60, activation='relu'),\n",
    "    layers.BatchNormalization(),\n",
    "    layers.Dense(60, activation='relu'),\n",
    "    layers.BatchNormalization(),\n",
    "    layers.Dropout(rate=dp_rate),\n",
    "    layers.Dense(120, activation='relu'),\n",
    "    layers.BatchNormalization(),\n",
    "    layers.Dense(120, activation='relu'),\n",
    "    layers.BatchNormalization(),\n",
    "    layers.Dropout(rate=dp_rate),\n",
    "    layers.Dense(240, activation='relu'),\n",
    "    layers.BatchNormalization(),\n",
    "    layers.Dense(240, activation='relu'),\n",
    "    layers.BatchNormalization(),\n",
    "    layers.Dropout(rate=dp_rate),\n",
    "    layers.Dense(120, activation='relu'),\n",
    "    layers.BatchNormalization(),\n",
    "    layers.Dense(60, activation='relu'),\n",
    "    layers.Dense(1, activation='relu')\n",
    "])\n",
    "\n",
    "# Compile Keras model\n",
    "model.compile(\n",
    "    loss='mean_absolute_error',\n",
    "    metrics=['mean_absolute_error','mean_squared_error'],\n",
    "    optimizer=keras.optimizers.Adam(learning_rate=lr))\n",
    "\n",
    "# fit model\n",
    "history = model.fit(\n",
    "    train_ds,\n",
    "    validation_data=val_ds,\n",
    "    epochs=10\n",
    ")\n",
    "\n",
    "# get results\n",
    "hist = pd.DataFrame(history.history)\n",
    "hist['epoch'] = history.epoch\n",
    "\n",
    "plt.plot(hist.epoch, hist.mean_absolute_error)\n",
    "plt.plot(hist.epoch, hist.val_mean_absolute_error)"
   ]
  },
  {
   "cell_type": "code",
   "execution_count": 89,
   "metadata": {},
   "outputs": [
    {
     "data": {
      "text/html": [
       "<div>\n",
       "<style scoped>\n",
       "    .dataframe tbody tr th:only-of-type {\n",
       "        vertical-align: middle;\n",
       "    }\n",
       "\n",
       "    .dataframe tbody tr th {\n",
       "        vertical-align: top;\n",
       "    }\n",
       "\n",
       "    .dataframe thead th {\n",
       "        text-align: right;\n",
       "    }\n",
       "</style>\n",
       "<table border=\"1\" class=\"dataframe\">\n",
       "  <thead>\n",
       "    <tr style=\"text-align: right;\">\n",
       "      <th></th>\n",
       "      <th>loss</th>\n",
       "      <th>mean_absolute_error</th>\n",
       "      <th>mean_squared_error</th>\n",
       "      <th>val_loss</th>\n",
       "      <th>val_mean_absolute_error</th>\n",
       "      <th>val_mean_squared_error</th>\n",
       "      <th>epoch</th>\n",
       "    </tr>\n",
       "  </thead>\n",
       "  <tbody>\n",
       "    <tr>\n",
       "      <th>0</th>\n",
       "      <td>2783.197021</td>\n",
       "      <td>2783.197021</td>\n",
       "      <td>1.399983e+07</td>\n",
       "      <td>3765.207764</td>\n",
       "      <td>3765.207764</td>\n",
       "      <td>42689400.0</td>\n",
       "      <td>0</td>\n",
       "    </tr>\n",
       "    <tr>\n",
       "      <th>1</th>\n",
       "      <td>1257.096313</td>\n",
       "      <td>1257.096313</td>\n",
       "      <td>3.434832e+06</td>\n",
       "      <td>2722.818848</td>\n",
       "      <td>2722.818848</td>\n",
       "      <td>22684016.0</td>\n",
       "      <td>1</td>\n",
       "    </tr>\n",
       "    <tr>\n",
       "      <th>2</th>\n",
       "      <td>975.449585</td>\n",
       "      <td>975.449585</td>\n",
       "      <td>2.073456e+06</td>\n",
       "      <td>2263.415039</td>\n",
       "      <td>2263.415039</td>\n",
       "      <td>20775806.0</td>\n",
       "      <td>2</td>\n",
       "    </tr>\n",
       "    <tr>\n",
       "      <th>3</th>\n",
       "      <td>922.325989</td>\n",
       "      <td>922.325989</td>\n",
       "      <td>1.874135e+06</td>\n",
       "      <td>2219.005371</td>\n",
       "      <td>2219.005371</td>\n",
       "      <td>20828942.0</td>\n",
       "      <td>3</td>\n",
       "    </tr>\n",
       "    <tr>\n",
       "      <th>4</th>\n",
       "      <td>902.166199</td>\n",
       "      <td>902.166199</td>\n",
       "      <td>1.792718e+06</td>\n",
       "      <td>2276.127441</td>\n",
       "      <td>2276.127441</td>\n",
       "      <td>21677284.0</td>\n",
       "      <td>4</td>\n",
       "    </tr>\n",
       "    <tr>\n",
       "      <th>5</th>\n",
       "      <td>886.355286</td>\n",
       "      <td>886.355286</td>\n",
       "      <td>1.730490e+06</td>\n",
       "      <td>2201.284668</td>\n",
       "      <td>2201.284668</td>\n",
       "      <td>20945352.0</td>\n",
       "      <td>5</td>\n",
       "    </tr>\n",
       "    <tr>\n",
       "      <th>6</th>\n",
       "      <td>876.450317</td>\n",
       "      <td>876.450317</td>\n",
       "      <td>1.701480e+06</td>\n",
       "      <td>2236.669434</td>\n",
       "      <td>2236.669434</td>\n",
       "      <td>21853868.0</td>\n",
       "      <td>6</td>\n",
       "    </tr>\n",
       "    <tr>\n",
       "      <th>7</th>\n",
       "      <td>869.367798</td>\n",
       "      <td>869.367798</td>\n",
       "      <td>1.665629e+06</td>\n",
       "      <td>2236.500488</td>\n",
       "      <td>2236.500488</td>\n",
       "      <td>21850974.0</td>\n",
       "      <td>7</td>\n",
       "    </tr>\n",
       "    <tr>\n",
       "      <th>8</th>\n",
       "      <td>863.863098</td>\n",
       "      <td>863.863098</td>\n",
       "      <td>1.644665e+06</td>\n",
       "      <td>2223.228760</td>\n",
       "      <td>2223.228760</td>\n",
       "      <td>21339008.0</td>\n",
       "      <td>8</td>\n",
       "    </tr>\n",
       "    <tr>\n",
       "      <th>9</th>\n",
       "      <td>859.451660</td>\n",
       "      <td>859.451660</td>\n",
       "      <td>1.632367e+06</td>\n",
       "      <td>2286.690186</td>\n",
       "      <td>2286.690186</td>\n",
       "      <td>22781270.0</td>\n",
       "      <td>9</td>\n",
       "    </tr>\n",
       "  </tbody>\n",
       "</table>\n",
       "</div>"
      ],
      "text/plain": [
       "          loss  mean_absolute_error  mean_squared_error     val_loss  \\\n",
       "0  2783.197021          2783.197021        1.399983e+07  3765.207764   \n",
       "1  1257.096313          1257.096313        3.434832e+06  2722.818848   \n",
       "2   975.449585           975.449585        2.073456e+06  2263.415039   \n",
       "3   922.325989           922.325989        1.874135e+06  2219.005371   \n",
       "4   902.166199           902.166199        1.792718e+06  2276.127441   \n",
       "5   886.355286           886.355286        1.730490e+06  2201.284668   \n",
       "6   876.450317           876.450317        1.701480e+06  2236.669434   \n",
       "7   869.367798           869.367798        1.665629e+06  2236.500488   \n",
       "8   863.863098           863.863098        1.644665e+06  2223.228760   \n",
       "9   859.451660           859.451660        1.632367e+06  2286.690186   \n",
       "\n",
       "   val_mean_absolute_error  val_mean_squared_error  epoch  \n",
       "0              3765.207764              42689400.0      0  \n",
       "1              2722.818848              22684016.0      1  \n",
       "2              2263.415039              20775806.0      2  \n",
       "3              2219.005371              20828942.0      3  \n",
       "4              2276.127441              21677284.0      4  \n",
       "5              2201.284668              20945352.0      5  \n",
       "6              2236.669434              21853868.0      6  \n",
       "7              2236.500488              21850974.0      7  \n",
       "8              2223.228760              21339008.0      8  \n",
       "9              2286.690186              22781270.0      9  "
      ]
     },
     "execution_count": 89,
     "metadata": {},
     "output_type": "execute_result"
    }
   ],
   "source": [
    "hist"
   ]
  },
  {
   "cell_type": "code",
   "execution_count": 90,
   "metadata": {},
   "outputs": [],
   "source": [
    "train_pred = model.predict(df_to_dataset(dataframe=train, target_name='price', shuffle=False, batch_size=1000)).flatten() "
   ]
  },
  {
   "cell_type": "code",
   "execution_count": 91,
   "metadata": {},
   "outputs": [
    {
     "data": {
      "text/plain": [
       "2138.1648503177207"
      ]
     },
     "execution_count": 91,
     "metadata": {},
     "output_type": "execute_result"
    }
   ],
   "source": [
    "# super baseline model\n",
    "np.mean(np.abs(train.price - train.price.mean()))"
   ]
  },
  {
   "cell_type": "code",
   "execution_count": 92,
   "metadata": {},
   "outputs": [
    {
     "data": {
      "text/plain": [
       "895.2264776027741"
      ]
     },
     "execution_count": 92,
     "metadata": {},
     "output_type": "execute_result"
    }
   ],
   "source": [
    "# my model\n",
    "np.mean(np.abs(train.price - train_pred))"
   ]
  },
  {
   "cell_type": "code",
   "execution_count": 93,
   "metadata": {},
   "outputs": [
    {
     "data": {
      "image/png": "[encoded data removed]",
      "text/plain": [
       "<Figure size 432x288 with 1 Axes>"
      ]
     },
     "metadata": {
      "needs_background": "light"
     },
     "output_type": "display_data"
    }
   ],
   "source": [
    "plt.scatter(train.price, train_pred)\n",
    "plt.xlim([0, train.price.max()])\n",
    "plt.ylim([0, train.price.max()])\n",
    "plt.xlabel('True')\n",
    "plt.ylabel('Pred')\n",
    "plt.show()"
   ]
  },
  {
   "cell_type": "code",
   "execution_count": 94,
   "metadata": {},
   "outputs": [],
   "source": [
    "train['price_pred'] = train_pred\n",
    "train['abs_error'] = abs(train.price_pred - train.price)\n",
    "train['error'] = train.price_pred - train.price\n",
    "\n",
    "worst_predictions = train.copy().loc[train.abs_error >= train.abs_error.quantile(0.9)]"
   ]
  },
  {
   "cell_type": "code",
   "execution_count": 95,
   "metadata": {},
   "outputs": [
    {
     "data": {
      "image/png": "[encoded data removed]",
      "text/plain": [
       "<Figure size 432x288 with 1 Axes>"
      ]
     },
     "metadata": {
      "needs_background": "light"
     },
     "output_type": "display_data"
    }
   ],
   "source": [
    "plt.hist(train.error, bins=40)\n",
    "plt.show()"
   ]
  },
  {
   "cell_type": "code",
   "execution_count": 96,
   "metadata": {},
   "outputs": [
    {
     "data": {
      "image/png": "[encoded data removed]",
      "text/plain": [
       "<Figure size 432x288 with 1 Axes>"
      ]
     },
     "metadata": {
      "needs_background": "light"
     },
     "output_type": "display_data"
    }
   ],
   "source": [
    "plt.hist(worst_predictions.price, bins=40, alpha=0.5, density=True, label='worst')\n",
    "plt.hist(train.price, bins=40, alpha=0.5, density=True, label='total')\n",
    "plt.legend()\n",
    "plt.show()"
   ]
  },
  {
   "cell_type": "code",
   "execution_count": 97,
   "metadata": {},
   "outputs": [
    {
     "data": {
      "image/png": "[encoded data removed]",
      "text/plain": [
       "<Figure size 432x288 with 1 Axes>"
      ]
     },
     "metadata": {
      "needs_background": "light"
     },
     "output_type": "display_data"
    }
   ],
   "source": [
    "plt.hist(worst_predictions.yearOfRegistration, bins=40, alpha=0.5, density=True, label='worst')\n",
    "plt.hist(train.yearOfRegistration, bins=40, alpha=0.5, density=True, label='total')\n",
    "plt.legend()\n",
    "plt.show()"
   ]
  },
  {
   "cell_type": "code",
   "execution_count": 98,
   "metadata": {},
   "outputs": [
    {
     "data": {
      "image/png": "[encoded data removed]",
      "text/plain": [
       "<Figure size 432x288 with 1 Axes>"
      ]
     },
     "metadata": {
      "needs_background": "light"
     },
     "output_type": "display_data"
    }
   ],
   "source": [
    "plt.scatter(worst_predictions.price, worst_predictions.abs_error)\n",
    "plt.show()"
   ]
  }
 ],
 "metadata": {
  "kernelspec": {
   "display_name": "carskernel",
   "language": "python",
   "name": "carskernel"
  },
  "language_info": {
   "codemirror_mode": {
    "name": "ipython",
    "version": 3
   },
   "file_extension": ".py",
   "mimetype": "text/x-python",
   "name": "python",
   "nbconvert_exporter": "python",
   "pygments_lexer": "ipython3",
   "version": "3.8.1"
  }
 },
 "nbformat": 4,
 "nbformat_minor": 4
}
