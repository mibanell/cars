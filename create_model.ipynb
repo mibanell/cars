{
 "cells": [
  {
   "cell_type": "markdown",
   "metadata": {},
   "source": [
    "# Create model arquitecture"
   ]
  },
  {
   "cell_type": "code",
   "execution_count": 1,
   "metadata": {},
   "outputs": [],
   "source": [
    "from tensorflow.keras import layers\n",
    "from tensorflow import keras\n",
    "from tensorflow.data import Dataset\n",
    "from tensorflow import feature_column\n",
    "from preprocess_tf import preprocessing_fn"
   ]
  },
  {
   "cell_type": "code",
   "execution_count": 2,
   "metadata": {},
   "outputs": [],
   "source": [
    "# A utility method to create a tf.data dataset from a Pandas Dataframe\n",
    "def df_to_dataset(dataframe, target_name, shuffle=True, batch_size=32):\n",
    "    dataframe = dataframe.copy()\n",
    "    targets = dataframe.pop(target_name)\n",
    "    ds = Dataset.from_tensor_slices((dict(dataframe), targets))\n",
    "    if shuffle:\n",
    "        ds = ds.shuffle(buffer_size=len(dataframe))\n",
    "        ds = ds.batch(batch_size)\n",
    "    return ds"
   ]
  },
  {
   "cell_type": "code",
   "execution_count": 3,
   "metadata": {},
   "outputs": [],
   "source": [
    "def set_numerical_feature(name):\n",
    "    \n",
    "    numerical_feature = feature_column.numeric_column(name)\n",
    "    \n",
    "    return numerical_feature\n",
    "    \n",
    "def set_one_hot_feature(name, data):\n",
    "    one_hot_feature = feature_column.categorical_column_with_vocabulary_list(name, data[name].unique().tolist())\n",
    "    one_hot_feature = feature_column.indicator_column(one_hot_feature)\n",
    "    \n",
    "    return one_hot_feature\n",
    "\n",
    "def set_embedding_feature(name, data, dims):\n",
    "    embedding_feature = feature_column.categorical_column_with_vocabulary_list(name, data[name].unique().tolist())\n",
    "    embedding_feature = feature_column.embedding_column(embedding_feature, dimension=dims)\n",
    "    \n",
    "    return embedding_feature"
   ]
  },
  {
   "cell_type": "code",
   "execution_count": 4,
   "metadata": {},
   "outputs": [],
   "source": [
    "def feature_columns(data, dataset):\n",
    "    \n",
    "    feature_columns = []\n",
    "\n",
    "    # numeric cols\n",
    "    for header in ['yearOfRegistration', 'powerPS', 'kilometer']:\n",
    "        feature_columns.append(set_numerical_feature(header))\n",
    "\n",
    "    feature_columns.append(set_one_hot_feature('abtest', data))\n",
    "    \n",
    "    feature_columns.append(set_embedding_feature('vehicleType', data, 4))\n",
    "    \n",
    "    feature_columns.append(set_one_hot_feature('gearbox', data))\n",
    "    \n",
    "    feature_columns.append(set_embedding_feature('model', data, 8))\n",
    "    \n",
    "    feature_columns.append(set_one_hot_feature('fuelType', data))\n",
    "    \n",
    "    feature_columns.append(set_embedding_feature('brand', data, 6))\n",
    "    \n",
    "    feature_columns.append(set_one_hot_feature('notRepairedDamage', data))\n",
    "    \n",
    "    feature_columns.append(set_embedding_feature('postalCode', data, 10))\n",
    "    \n",
    "\n",
    "    feature_layer = layers.DenseFeatures(feature_columns)\n",
    "    \n",
    "    return(feature_layer)"
   ]
  },
  {
   "cell_type": "code",
   "execution_count": 5,
   "metadata": {},
   "outputs": [],
   "source": [
    "train = preprocessing_fn(path='data/train.csv', na_encoding='data/gearbox_powerps_na.csv', norm_params='data/numerical_features_normalization.csv')"
   ]
  },
  {
   "cell_type": "code",
   "execution_count": 6,
   "metadata": {},
   "outputs": [],
   "source": [
    "train_ds = df_to_dataset(dataframe=train, target_name='price', shuffle=True, batch_size=32)"
   ]
  },
  {
   "cell_type": "code",
   "execution_count": 8,
   "metadata": {},
   "outputs": [],
   "source": [
    "feature_layer = feature_columns(train, train_ds)"
   ]
  },
  {
   "cell_type": "code",
   "execution_count": null,
   "metadata": {},
   "outputs": [],
   "source": [
    "inputs = keras.Input(shape=(784,))"
   ]
  }
 ],
 "metadata": {
  "kernelspec": {
   "display_name": "carskernel",
   "language": "python",
   "name": "carskernel"
  },
  "language_info": {
   "codemirror_mode": {
    "name": "ipython",
    "version": 3
   },
   "file_extension": ".py",
   "mimetype": "text/x-python",
   "name": "python",
   "nbconvert_exporter": "python",
   "pygments_lexer": "ipython3",
   "version": "3.8.1"
  }
 },
 "nbformat": 4,
 "nbformat_minor": 4
}
