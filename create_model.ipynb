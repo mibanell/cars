{
 "cells": [
  {
   "cell_type": "markdown",
   "metadata": {},
   "source": [
    "# Create model arquitecture"
   ]
  },
  {
   "cell_type": "code",
   "execution_count": 1,
   "metadata": {},
   "outputs": [],
   "source": [
    "from tensorflow.keras import layers\n",
    "from tensorflow import keras, dtypes\n",
    "from tensorflow.data import Dataset\n",
    "from tensorflow import feature_column\n",
    "import tensorflow as tf\n",
    "\n",
    "from preprocess_tf import preprocessing_fn\n",
    "\n",
    "import matplotlib.pyplot as plt\n",
    "import pandas as pd\n",
    "import numpy as np\n",
    "\n",
    "import tensorflow_docs as tfdocs\n",
    "import tensorflow_docs.plots\n",
    "import tensorflow_docs.modeling\n",
    "\n",
    "\n",
    "%load_ext autoreload\n",
    "%autoreload 2\n"
   ]
  },
  {
   "cell_type": "code",
   "execution_count": 2,
   "metadata": {},
   "outputs": [],
   "source": [
    "# A utility method to create a tf.data dataset from a Pandas Dataframe\n",
    "def df_to_dataset(dataframe, target_name, shuffle=True, batch_size=100):\n",
    "    dataframe = dataframe.copy()\n",
    "    targets = dataframe.pop(target_name)\n",
    "    ds = Dataset.from_tensor_slices((dict(dataframe), targets))\n",
    "    if shuffle:\n",
    "        ds = ds.shuffle(buffer_size=len(dataframe))\n",
    "    ds = ds.batch(batch_size)\n",
    "    return ds"
   ]
  },
  {
   "cell_type": "code",
   "execution_count": 3,
   "metadata": {},
   "outputs": [],
   "source": [
    "def set_numerical_feature(name):\n",
    "    \n",
    "    numerical_feature = feature_column.numeric_column(name, dtype=dtypes.float64)\n",
    "    \n",
    "    return numerical_feature\n",
    "    \n",
    "def set_one_hot_feature(name, data):\n",
    "    one_hot_feature = feature_column.categorical_column_with_vocabulary_list(name, data[name].unique().tolist())\n",
    "    one_hot_feature = feature_column.indicator_column(one_hot_feature)\n",
    "    \n",
    "    return one_hot_feature\n",
    "\n",
    "def set_embedding_feature(name, data, dims):\n",
    "    embedding_feature = feature_column.categorical_column_with_vocabulary_list(name, data[name].unique().tolist())\n",
    "    embedding_feature = feature_column.embedding_column(embedding_feature, dimension=dims)\n",
    "    \n",
    "    return embedding_feature"
   ]
  },
  {
   "cell_type": "code",
   "execution_count": 4,
   "metadata": {},
   "outputs": [],
   "source": [
    "def feature_columns(data, dataset):\n",
    "    \n",
    "    feature_columns = []\n",
    "\n",
    "    # numeric cols\n",
    "    for header in ['yearOfRegistration', 'powerPS', 'kilometer']:\n",
    "        feature_columns.append(set_numerical_feature(header))\n",
    "\n",
    "    feature_columns.append(set_one_hot_feature('abtest', data))\n",
    "    \n",
    "    feature_columns.append(set_embedding_feature('vehicleType', data, 5))\n",
    "    \n",
    "    feature_columns.append(set_one_hot_feature('gearbox', data))\n",
    "    \n",
    "    feature_columns.append(set_one_hot_feature('fuelType', data))\n",
    "    \n",
    "    feature_columns.append(set_one_hot_feature('notRepairedDamage', data))\n",
    "    \n",
    "    feature_columns.append(set_one_hot_feature('cluster_pcode', data))\n",
    "    \n",
    "    feature_columns.append(set_one_hot_feature('cluster_model', data))\n",
    "    \n",
    "    feature_columns.append(set_one_hot_feature('cluster_brand', data))\n",
    "    \n",
    "\n",
    "    feature_layer = layers.DenseFeatures(feature_columns)\n",
    "    \n",
    "    return(feature_layer)"
   ]
  },
  {
   "cell_type": "code",
   "execution_count": 5,
   "metadata": {},
   "outputs": [
    {
     "name": "stdout",
     "output_type": "stream",
     "text": [
      "(197874, 12)\n",
      "(49444, 12)\n"
     ]
    }
   ],
   "source": [
    "train = preprocessing_fn(path='data/train.csv', na_encoding='data/gearbox_powerps_na.csv', norm_params='data/numerical_features_normalization.csv', brand_clusters='data/brand_clusters.csv', model_clusters='data/model_clusters.csv', postalcode_clusters='data/postalcode_clusters.csv')\n",
    "val = preprocessing_fn(path='data/val.csv', na_encoding='data/gearbox_powerps_na.csv', norm_params='data/numerical_features_normalization.csv', brand_clusters='data/brand_clusters.csv', model_clusters='data/model_clusters.csv', postalcode_clusters='data/postalcode_clusters.csv')\n",
    "\n",
    "print(train.shape)\n",
    "print(val.shape)"
   ]
  },
  {
   "cell_type": "code",
   "execution_count": 6,
   "metadata": {},
   "outputs": [
    {
     "data": {
      "text/plain": [
       "price                   int64\n",
       "abtest                 object\n",
       "vehicleType            object\n",
       "yearOfRegistration    float32\n",
       "gearbox                object\n",
       "powerPS               float32\n",
       "kilometer             float32\n",
       "fuelType               object\n",
       "notRepairedDamage      object\n",
       "cluster_brand           int32\n",
       "cluster_model           int32\n",
       "cluster_pcode           int32\n",
       "dtype: object"
      ]
     },
     "execution_count": 6,
     "metadata": {},
     "output_type": "execute_result"
    }
   ],
   "source": [
    "train.dtypes"
   ]
  },
  {
   "cell_type": "code",
   "execution_count": 7,
   "metadata": {},
   "outputs": [],
   "source": [
    "train_ds = df_to_dataset(dataframe=train, target_name='price', shuffle=True, batch_size=512)\n",
    "val_ds = df_to_dataset(dataframe=val, target_name='price', shuffle=True, batch_size=512)"
   ]
  },
  {
   "cell_type": "code",
   "execution_count": 8,
   "metadata": {},
   "outputs": [],
   "source": [
    "feature_layer = feature_columns(train, train_ds)"
   ]
  },
  {
   "cell_type": "code",
   "execution_count": 9,
   "metadata": {},
   "outputs": [
    {
     "name": "stdout",
     "output_type": "stream",
     "text": [
      "Epoch 1/40\n",
      "387/387 [==============================] - 15s 39ms/step - loss: 1750.3402 - mean_absolute_error: 1750.3402 - mean_squared_error: 14199230.0000 - val_loss: 1330.7113 - val_mean_absolute_error: 1330.7113 - val_mean_squared_error: 6160239.0000\n",
      "Epoch 2/40\n",
      "387/387 [==============================] - 14s 36ms/step - loss: 1295.0359 - mean_absolute_error: 1295.0359 - mean_squared_error: 5616612.0000 - val_loss: 1306.8712 - val_mean_absolute_error: 1306.8712 - val_mean_squared_error: 5849757.5000\n",
      "Epoch 3/40\n",
      "387/387 [==============================] - 15s 38ms/step - loss: 1247.4374 - mean_absolute_error: 1247.4374 - mean_squared_error: 5215384.0000 - val_loss: 1296.9121 - val_mean_absolute_error: 1296.9121 - val_mean_squared_error: 5585404.0000\n",
      "Epoch 4/40\n",
      "387/387 [==============================] - 11s 29ms/step - loss: 1228.3225 - mean_absolute_error: 1228.3225 - mean_squared_error: 5020020.5000 - val_loss: 1332.9048 - val_mean_absolute_error: 1332.9048 - val_mean_squared_error: 5790911.0000\n",
      "Epoch 5/40\n",
      "387/387 [==============================] - 6s 16ms/step - loss: 1207.2949 - mean_absolute_error: 1207.2949 - mean_squared_error: 4861611.5000 - val_loss: 1245.2605 - val_mean_absolute_error: 1245.2605 - val_mean_squared_error: 5223697.5000\n",
      "Epoch 6/40\n",
      "387/387 [==============================] - 6s 15ms/step - loss: 1202.8145 - mean_absolute_error: 1202.8145 - mean_squared_error: 4802244.5000 - val_loss: 1270.1237 - val_mean_absolute_error: 1270.1237 - val_mean_squared_error: 5334181.0000\n",
      "Epoch 7/40\n",
      "387/387 [==============================] - 6s 15ms/step - loss: 1190.5007 - mean_absolute_error: 1190.5007 - mean_squared_error: 4722640.5000 - val_loss: 1224.3007 - val_mean_absolute_error: 1224.3007 - val_mean_squared_error: 5007758.0000\n",
      "Epoch 8/40\n",
      "387/387 [==============================] - 6s 16ms/step - loss: 1178.4067 - mean_absolute_error: 1178.4067 - mean_squared_error: 4641424.5000 - val_loss: 1260.1481 - val_mean_absolute_error: 1260.1481 - val_mean_squared_error: 5251603.5000\n",
      "Epoch 9/40\n",
      "387/387 [==============================] - 6s 16ms/step - loss: 1176.2410 - mean_absolute_error: 1176.2410 - mean_squared_error: 4595206.5000 - val_loss: 1209.3761 - val_mean_absolute_error: 1209.3761 - val_mean_squared_error: 5018150.5000\n",
      "Epoch 10/40\n",
      "387/387 [==============================] - 6s 16ms/step - loss: 1166.6761 - mean_absolute_error: 1166.6761 - mean_squared_error: 4532618.5000 - val_loss: 1221.9579 - val_mean_absolute_error: 1221.9579 - val_mean_squared_error: 5039395.0000\n",
      "Epoch 11/40\n",
      "387/387 [==============================] - 6s 15ms/step - loss: 1156.9001 - mean_absolute_error: 1156.9001 - mean_squared_error: 4454748.5000 - val_loss: 1206.4257 - val_mean_absolute_error: 1206.4257 - val_mean_squared_error: 4999266.0000\n",
      "Epoch 12/40\n",
      "387/387 [==============================] - 6s 15ms/step - loss: 1148.0573 - mean_absolute_error: 1148.0573 - mean_squared_error: 4403125.5000 - val_loss: 1208.8856 - val_mean_absolute_error: 1208.8856 - val_mean_squared_error: 5038395.0000\n",
      "Epoch 13/40\n",
      "387/387 [==============================] - 6s 16ms/step - loss: 1151.1111 - mean_absolute_error: 1151.1111 - mean_squared_error: 4407906.5000 - val_loss: 1229.3455 - val_mean_absolute_error: 1229.3455 - val_mean_squared_error: 5082184.5000\n",
      "Epoch 14/40\n",
      "387/387 [==============================] - 6s 15ms/step - loss: 1142.1482 - mean_absolute_error: 1142.1482 - mean_squared_error: 4336243.5000 - val_loss: 1205.6979 - val_mean_absolute_error: 1205.6979 - val_mean_squared_error: 4974902.5000\n",
      "Epoch 15/40\n",
      "387/387 [==============================] - 6s 16ms/step - loss: 1132.8191 - mean_absolute_error: 1132.8191 - mean_squared_error: 4279358.0000 - val_loss: 1214.7252 - val_mean_absolute_error: 1214.7252 - val_mean_squared_error: 4989851.0000\n",
      "Epoch 16/40\n",
      "387/387 [==============================] - 6s 15ms/step - loss: 1134.2722 - mean_absolute_error: 1134.2722 - mean_squared_error: 4281900.0000 - val_loss: 1239.2152 - val_mean_absolute_error: 1239.2152 - val_mean_squared_error: 5300889.0000\n",
      "Epoch 17/40\n",
      "387/387 [==============================] - 6s 15ms/step - loss: 1125.5100 - mean_absolute_error: 1125.5100 - mean_squared_error: 4210091.5000 - val_loss: 1206.1022 - val_mean_absolute_error: 1206.1022 - val_mean_squared_error: 4918565.5000\n",
      "Epoch 18/40\n",
      "387/387 [==============================] - 6s 17ms/step - loss: 1123.7777 - mean_absolute_error: 1123.7777 - mean_squared_error: 4177943.2500 - val_loss: 1194.0614 - val_mean_absolute_error: 1194.0614 - val_mean_squared_error: 4944324.5000\n",
      "Epoch 19/40\n",
      "387/387 [==============================] - 7s 18ms/step - loss: 1114.8734 - mean_absolute_error: 1114.8734 - mean_squared_error: 4124764.7500 - val_loss: 1209.1937 - val_mean_absolute_error: 1209.1937 - val_mean_squared_error: 4935494.0000\n",
      "Epoch 20/40\n",
      "387/387 [==============================] - 7s 18ms/step - loss: 1113.5635 - mean_absolute_error: 1113.5635 - mean_squared_error: 4116261.5000 - val_loss: 1194.3790 - val_mean_absolute_error: 1194.3790 - val_mean_squared_error: 4900491.5000\n",
      "Epoch 21/40\n",
      "387/387 [==============================] - 7s 18ms/step - loss: 1103.6564 - mean_absolute_error: 1103.6564 - mean_squared_error: 4033761.5000 - val_loss: 1191.4501 - val_mean_absolute_error: 1191.4501 - val_mean_squared_error: 4826789.5000\n",
      "Epoch 22/40\n",
      "387/387 [==============================] - 7s 18ms/step - loss: 1098.6913 - mean_absolute_error: 1098.6913 - mean_squared_error: 3999989.2500 - val_loss: 1189.3478 - val_mean_absolute_error: 1189.3478 - val_mean_squared_error: 4842641.5000\n",
      "Epoch 23/40\n",
      "387/387 [==============================] - 7s 18ms/step - loss: 1105.1542 - mean_absolute_error: 1105.1542 - mean_squared_error: 4017569.0000 - val_loss: 1200.6237 - val_mean_absolute_error: 1200.6237 - val_mean_squared_error: 4875038.5000\n",
      "Epoch 24/40\n",
      "387/387 [==============================] - 7s 17ms/step - loss: 1091.1516 - mean_absolute_error: 1091.1516 - mean_squared_error: 3956643.0000 - val_loss: 1274.4756 - val_mean_absolute_error: 1274.4756 - val_mean_squared_error: 5449597.5000\n",
      "Epoch 25/40\n",
      "387/387 [==============================] - 7s 18ms/step - loss: 1088.5284 - mean_absolute_error: 1088.5284 - mean_squared_error: 3924823.0000 - val_loss: 1195.6121 - val_mean_absolute_error: 1195.6121 - val_mean_squared_error: 4962988.0000\n",
      "Epoch 26/40\n",
      "387/387 [==============================] - 7s 17ms/step - loss: 1081.3225 - mean_absolute_error: 1081.3225 - mean_squared_error: 3863075.7500 - val_loss: 1186.2278 - val_mean_absolute_error: 1186.2278 - val_mean_squared_error: 4911236.0000\n",
      "Epoch 27/40\n",
      "387/387 [==============================] - 7s 18ms/step - loss: 1075.7157 - mean_absolute_error: 1075.7157 - mean_squared_error: 3829805.0000 - val_loss: 1201.7513 - val_mean_absolute_error: 1201.7513 - val_mean_squared_error: 4926968.5000\n",
      "Epoch 28/40\n",
      "387/387 [==============================] - 7s 17ms/step - loss: 1074.8553 - mean_absolute_error: 1074.8553 - mean_squared_error: 3812422.0000 - val_loss: 1192.6578 - val_mean_absolute_error: 1192.6578 - val_mean_squared_error: 4814114.5000\n",
      "Epoch 29/40\n",
      "387/387 [==============================] - 7s 17ms/step - loss: 1067.1814 - mean_absolute_error: 1067.1814 - mean_squared_error: 3769660.0000 - val_loss: 1194.7632 - val_mean_absolute_error: 1194.7632 - val_mean_squared_error: 4960702.5000\n",
      "Epoch 30/40\n",
      "387/387 [==============================] - 7s 17ms/step - loss: 1061.0459 - mean_absolute_error: 1061.0459 - mean_squared_error: 3734572.2500 - val_loss: 1200.5066 - val_mean_absolute_error: 1200.5066 - val_mean_squared_error: 4933494.5000\n",
      "Epoch 31/40\n",
      "387/387 [==============================] - 7s 17ms/step - loss: 1060.0670 - mean_absolute_error: 1060.0670 - mean_squared_error: 3713439.0000 - val_loss: 1192.9666 - val_mean_absolute_error: 1192.9666 - val_mean_squared_error: 4934260.0000\n",
      "Epoch 32/40\n",
      "387/387 [==============================] - 7s 18ms/step - loss: 1053.2261 - mean_absolute_error: 1053.2261 - mean_squared_error: 3657570.2500 - val_loss: 1189.8885 - val_mean_absolute_error: 1189.8885 - val_mean_squared_error: 4916455.0000\n",
      "Epoch 33/40\n",
      "387/387 [==============================] - 7s 18ms/step - loss: 1056.5022 - mean_absolute_error: 1056.5022 - mean_squared_error: 3671040.5000 - val_loss: 1191.9642 - val_mean_absolute_error: 1191.9642 - val_mean_squared_error: 4861268.5000\n",
      "Epoch 34/40\n",
      "387/387 [==============================] - 7s 18ms/step - loss: 1047.1317 - mean_absolute_error: 1047.1317 - mean_squared_error: 3611786.5000 - val_loss: 1196.9252 - val_mean_absolute_error: 1196.9252 - val_mean_squared_error: 4972345.0000\n",
      "Epoch 35/40\n",
      "387/387 [==============================] - 7s 18ms/step - loss: 1045.7413 - mean_absolute_error: 1045.7413 - mean_squared_error: 3592800.2500 - val_loss: 1207.7686 - val_mean_absolute_error: 1207.7686 - val_mean_squared_error: 4966532.0000\n",
      "Epoch 36/40\n",
      "387/387 [==============================] - 7s 17ms/step - loss: 1040.2655 - mean_absolute_error: 1040.2655 - mean_squared_error: 3560318.0000 - val_loss: 1187.6108 - val_mean_absolute_error: 1187.6108 - val_mean_squared_error: 4813108.5000\n",
      "Epoch 37/40\n",
      "387/387 [==============================] - 7s 17ms/step - loss: 1032.9740 - mean_absolute_error: 1032.9740 - mean_squared_error: 3523601.5000 - val_loss: 1203.5355 - val_mean_absolute_error: 1203.5355 - val_mean_squared_error: 4984437.0000\n",
      "Epoch 38/40\n",
      "387/387 [==============================] - 7s 18ms/step - loss: 1029.0685 - mean_absolute_error: 1029.0685 - mean_squared_error: 3492986.5000 - val_loss: 1224.4565 - val_mean_absolute_error: 1224.4565 - val_mean_squared_error: 5041933.5000\n",
      "Epoch 39/40\n",
      "387/387 [==============================] - 7s 18ms/step - loss: 1027.7665 - mean_absolute_error: 1027.7665 - mean_squared_error: 3494268.2500 - val_loss: 1194.7103 - val_mean_absolute_error: 1194.7103 - val_mean_squared_error: 4979248.5000\n",
      "Epoch 40/40\n",
      "387/387 [==============================] - 7s 17ms/step - loss: 1023.9191 - mean_absolute_error: 1023.9191 - mean_squared_error: 3462835.5000 - val_loss: 1192.6365 - val_mean_absolute_error: 1192.6365 - val_mean_squared_error: 4943887.5000\n"
     ]
    },
    {
     "data": {
      "text/plain": [
       "[<matplotlib.lines.Line2D at 0x1230c3f0ca0>]"
      ]
     },
     "execution_count": 9,
     "metadata": {},
     "output_type": "execute_result"
    },
    {
     "data": {
      "image/png": "[encoded data removed]",
      "text/plain": [
       "<Figure size 432x288 with 1 Axes>"
      ]
     },
     "metadata": {
      "needs_background": "light"
     },
     "output_type": "display_data"
    }
   ],
   "source": [
    "dp_rate = 0.1\n",
    "lr = 0.001\n",
    "beta_1 = 0.9\n",
    "hu = 150\n",
    "\n",
    "model = keras.Sequential([\n",
    "    feature_layer,\n",
    "    layers.Dense(300, activation='relu'),\n",
    "    layers.Dense(300, activation='relu'),\n",
    "    layers.Dense(300, activation='relu'),\n",
    "    layers.Dense(300, activation='relu'),\n",
    "    layers.Dense(300, activation='relu'),\n",
    "    layers.Dense(300, activation='relu'),\n",
    "    layers.Dense(300, activation='relu'),\n",
    "    layers.Dense(300, activation='relu'),\n",
    "    layers.Dense(300, activation='relu'),\n",
    "    layers.Dense(1, activation='relu')\n",
    "])\n",
    "\n",
    "# Compile Keras model\n",
    "model.compile(\n",
    "    loss='mean_absolute_error',\n",
    "    metrics=['mean_absolute_error','mean_squared_error'],\n",
    "    optimizer=keras.optimizers.Adam(learning_rate=lr, beta_1=beta_1))\n",
    "\n",
    "# fit model\n",
    "history = model.fit(\n",
    "    train_ds,\n",
    "    validation_data=val_ds,\n",
    "    epochs=40\n",
    ")\n",
    "\n",
    "# get results\n",
    "hist = pd.DataFrame(history.history)\n",
    "hist['epoch'] = history.epoch\n",
    "\n",
    "plt.plot(hist.epoch, hist.mean_absolute_error)\n",
    "plt.plot(hist.epoch, hist.val_mean_absolute_error)"
   ]
  },
  {
   "cell_type": "code",
   "execution_count": 10,
   "metadata": {},
   "outputs": [
    {
     "data": {
      "text/html": [
       "<div>\n",
       "<style scoped>\n",
       "    .dataframe tbody tr th:only-of-type {\n",
       "        vertical-align: middle;\n",
       "    }\n",
       "\n",
       "    .dataframe tbody tr th {\n",
       "        vertical-align: top;\n",
       "    }\n",
       "\n",
       "    .dataframe thead th {\n",
       "        text-align: right;\n",
       "    }\n",
       "</style>\n",
       "<table border=\"1\" class=\"dataframe\">\n",
       "  <thead>\n",
       "    <tr style=\"text-align: right;\">\n",
       "      <th></th>\n",
       "      <th>loss</th>\n",
       "      <th>mean_absolute_error</th>\n",
       "      <th>mean_squared_error</th>\n",
       "      <th>val_loss</th>\n",
       "      <th>val_mean_absolute_error</th>\n",
       "      <th>val_mean_squared_error</th>\n",
       "      <th>epoch</th>\n",
       "    </tr>\n",
       "  </thead>\n",
       "  <tbody>\n",
       "    <tr>\n",
       "      <th>0</th>\n",
       "      <td>1750.340210</td>\n",
       "      <td>1750.340210</td>\n",
       "      <td>14199230.00</td>\n",
       "      <td>1330.711304</td>\n",
       "      <td>1330.711304</td>\n",
       "      <td>6160239.0</td>\n",
       "      <td>0</td>\n",
       "    </tr>\n",
       "    <tr>\n",
       "      <th>1</th>\n",
       "      <td>1295.035889</td>\n",
       "      <td>1295.035889</td>\n",
       "      <td>5616612.00</td>\n",
       "      <td>1306.871216</td>\n",
       "      <td>1306.871216</td>\n",
       "      <td>5849757.5</td>\n",
       "      <td>1</td>\n",
       "    </tr>\n",
       "    <tr>\n",
       "      <th>2</th>\n",
       "      <td>1247.437378</td>\n",
       "      <td>1247.437378</td>\n",
       "      <td>5215384.00</td>\n",
       "      <td>1296.912109</td>\n",
       "      <td>1296.912109</td>\n",
       "      <td>5585404.0</td>\n",
       "      <td>2</td>\n",
       "    </tr>\n",
       "    <tr>\n",
       "      <th>3</th>\n",
       "      <td>1228.322510</td>\n",
       "      <td>1228.322510</td>\n",
       "      <td>5020020.50</td>\n",
       "      <td>1332.904785</td>\n",
       "      <td>1332.904785</td>\n",
       "      <td>5790911.0</td>\n",
       "      <td>3</td>\n",
       "    </tr>\n",
       "    <tr>\n",
       "      <th>4</th>\n",
       "      <td>1207.294922</td>\n",
       "      <td>1207.294922</td>\n",
       "      <td>4861611.50</td>\n",
       "      <td>1245.260498</td>\n",
       "      <td>1245.260498</td>\n",
       "      <td>5223697.5</td>\n",
       "      <td>4</td>\n",
       "    </tr>\n",
       "    <tr>\n",
       "      <th>5</th>\n",
       "      <td>1202.814453</td>\n",
       "      <td>1202.814453</td>\n",
       "      <td>4802244.50</td>\n",
       "      <td>1270.123657</td>\n",
       "      <td>1270.123657</td>\n",
       "      <td>5334181.0</td>\n",
       "      <td>5</td>\n",
       "    </tr>\n",
       "    <tr>\n",
       "      <th>6</th>\n",
       "      <td>1190.500732</td>\n",
       "      <td>1190.500732</td>\n",
       "      <td>4722640.50</td>\n",
       "      <td>1224.300659</td>\n",
       "      <td>1224.300659</td>\n",
       "      <td>5007758.0</td>\n",
       "      <td>6</td>\n",
       "    </tr>\n",
       "    <tr>\n",
       "      <th>7</th>\n",
       "      <td>1178.406738</td>\n",
       "      <td>1178.406738</td>\n",
       "      <td>4641424.50</td>\n",
       "      <td>1260.148071</td>\n",
       "      <td>1260.148071</td>\n",
       "      <td>5251603.5</td>\n",
       "      <td>7</td>\n",
       "    </tr>\n",
       "    <tr>\n",
       "      <th>8</th>\n",
       "      <td>1176.240967</td>\n",
       "      <td>1176.240967</td>\n",
       "      <td>4595206.50</td>\n",
       "      <td>1209.376099</td>\n",
       "      <td>1209.376099</td>\n",
       "      <td>5018150.5</td>\n",
       "      <td>8</td>\n",
       "    </tr>\n",
       "    <tr>\n",
       "      <th>9</th>\n",
       "      <td>1166.676147</td>\n",
       "      <td>1166.676147</td>\n",
       "      <td>4532618.50</td>\n",
       "      <td>1221.957886</td>\n",
       "      <td>1221.957886</td>\n",
       "      <td>5039395.0</td>\n",
       "      <td>9</td>\n",
       "    </tr>\n",
       "    <tr>\n",
       "      <th>10</th>\n",
       "      <td>1156.900146</td>\n",
       "      <td>1156.900146</td>\n",
       "      <td>4454748.50</td>\n",
       "      <td>1206.425659</td>\n",
       "      <td>1206.425659</td>\n",
       "      <td>4999266.0</td>\n",
       "      <td>10</td>\n",
       "    </tr>\n",
       "    <tr>\n",
       "      <th>11</th>\n",
       "      <td>1148.057251</td>\n",
       "      <td>1148.057251</td>\n",
       "      <td>4403125.50</td>\n",
       "      <td>1208.885620</td>\n",
       "      <td>1208.885620</td>\n",
       "      <td>5038395.0</td>\n",
       "      <td>11</td>\n",
       "    </tr>\n",
       "    <tr>\n",
       "      <th>12</th>\n",
       "      <td>1151.111084</td>\n",
       "      <td>1151.111084</td>\n",
       "      <td>4407906.50</td>\n",
       "      <td>1229.345459</td>\n",
       "      <td>1229.345459</td>\n",
       "      <td>5082184.5</td>\n",
       "      <td>12</td>\n",
       "    </tr>\n",
       "    <tr>\n",
       "      <th>13</th>\n",
       "      <td>1142.148193</td>\n",
       "      <td>1142.148193</td>\n",
       "      <td>4336243.50</td>\n",
       "      <td>1205.697876</td>\n",
       "      <td>1205.697876</td>\n",
       "      <td>4974902.5</td>\n",
       "      <td>13</td>\n",
       "    </tr>\n",
       "    <tr>\n",
       "      <th>14</th>\n",
       "      <td>1132.819092</td>\n",
       "      <td>1132.819092</td>\n",
       "      <td>4279358.00</td>\n",
       "      <td>1214.725220</td>\n",
       "      <td>1214.725220</td>\n",
       "      <td>4989851.0</td>\n",
       "      <td>14</td>\n",
       "    </tr>\n",
       "    <tr>\n",
       "      <th>15</th>\n",
       "      <td>1134.272217</td>\n",
       "      <td>1134.272217</td>\n",
       "      <td>4281900.00</td>\n",
       "      <td>1239.215210</td>\n",
       "      <td>1239.215210</td>\n",
       "      <td>5300889.0</td>\n",
       "      <td>15</td>\n",
       "    </tr>\n",
       "    <tr>\n",
       "      <th>16</th>\n",
       "      <td>1125.510010</td>\n",
       "      <td>1125.510010</td>\n",
       "      <td>4210091.50</td>\n",
       "      <td>1206.102173</td>\n",
       "      <td>1206.102173</td>\n",
       "      <td>4918565.5</td>\n",
       "      <td>16</td>\n",
       "    </tr>\n",
       "    <tr>\n",
       "      <th>17</th>\n",
       "      <td>1123.777710</td>\n",
       "      <td>1123.777710</td>\n",
       "      <td>4177943.25</td>\n",
       "      <td>1194.061401</td>\n",
       "      <td>1194.061401</td>\n",
       "      <td>4944324.5</td>\n",
       "      <td>17</td>\n",
       "    </tr>\n",
       "    <tr>\n",
       "      <th>18</th>\n",
       "      <td>1114.873413</td>\n",
       "      <td>1114.873413</td>\n",
       "      <td>4124764.75</td>\n",
       "      <td>1209.193726</td>\n",
       "      <td>1209.193726</td>\n",
       "      <td>4935494.0</td>\n",
       "      <td>18</td>\n",
       "    </tr>\n",
       "    <tr>\n",
       "      <th>19</th>\n",
       "      <td>1113.563477</td>\n",
       "      <td>1113.563477</td>\n",
       "      <td>4116261.50</td>\n",
       "      <td>1194.379028</td>\n",
       "      <td>1194.379028</td>\n",
       "      <td>4900491.5</td>\n",
       "      <td>19</td>\n",
       "    </tr>\n",
       "    <tr>\n",
       "      <th>20</th>\n",
       "      <td>1103.656372</td>\n",
       "      <td>1103.656372</td>\n",
       "      <td>4033761.50</td>\n",
       "      <td>1191.450073</td>\n",
       "      <td>1191.450073</td>\n",
       "      <td>4826789.5</td>\n",
       "      <td>20</td>\n",
       "    </tr>\n",
       "    <tr>\n",
       "      <th>21</th>\n",
       "      <td>1098.691284</td>\n",
       "      <td>1098.691284</td>\n",
       "      <td>3999989.25</td>\n",
       "      <td>1189.347778</td>\n",
       "      <td>1189.347778</td>\n",
       "      <td>4842641.5</td>\n",
       "      <td>21</td>\n",
       "    </tr>\n",
       "    <tr>\n",
       "      <th>22</th>\n",
       "      <td>1105.154175</td>\n",
       "      <td>1105.154175</td>\n",
       "      <td>4017569.00</td>\n",
       "      <td>1200.623657</td>\n",
       "      <td>1200.623657</td>\n",
       "      <td>4875038.5</td>\n",
       "      <td>22</td>\n",
       "    </tr>\n",
       "    <tr>\n",
       "      <th>23</th>\n",
       "      <td>1091.151611</td>\n",
       "      <td>1091.151611</td>\n",
       "      <td>3956643.00</td>\n",
       "      <td>1274.475586</td>\n",
       "      <td>1274.475586</td>\n",
       "      <td>5449597.5</td>\n",
       "      <td>23</td>\n",
       "    </tr>\n",
       "    <tr>\n",
       "      <th>24</th>\n",
       "      <td>1088.528442</td>\n",
       "      <td>1088.528442</td>\n",
       "      <td>3924823.00</td>\n",
       "      <td>1195.612061</td>\n",
       "      <td>1195.612061</td>\n",
       "      <td>4962988.0</td>\n",
       "      <td>24</td>\n",
       "    </tr>\n",
       "    <tr>\n",
       "      <th>25</th>\n",
       "      <td>1081.322510</td>\n",
       "      <td>1081.322510</td>\n",
       "      <td>3863075.75</td>\n",
       "      <td>1186.227783</td>\n",
       "      <td>1186.227783</td>\n",
       "      <td>4911236.0</td>\n",
       "      <td>25</td>\n",
       "    </tr>\n",
       "    <tr>\n",
       "      <th>26</th>\n",
       "      <td>1075.715698</td>\n",
       "      <td>1075.715698</td>\n",
       "      <td>3829805.00</td>\n",
       "      <td>1201.751343</td>\n",
       "      <td>1201.751343</td>\n",
       "      <td>4926968.5</td>\n",
       "      <td>26</td>\n",
       "    </tr>\n",
       "    <tr>\n",
       "      <th>27</th>\n",
       "      <td>1074.855347</td>\n",
       "      <td>1074.855347</td>\n",
       "      <td>3812422.00</td>\n",
       "      <td>1192.657837</td>\n",
       "      <td>1192.657837</td>\n",
       "      <td>4814114.5</td>\n",
       "      <td>27</td>\n",
       "    </tr>\n",
       "    <tr>\n",
       "      <th>28</th>\n",
       "      <td>1067.181396</td>\n",
       "      <td>1067.181396</td>\n",
       "      <td>3769660.00</td>\n",
       "      <td>1194.763184</td>\n",
       "      <td>1194.763184</td>\n",
       "      <td>4960702.5</td>\n",
       "      <td>28</td>\n",
       "    </tr>\n",
       "    <tr>\n",
       "      <th>29</th>\n",
       "      <td>1061.045898</td>\n",
       "      <td>1061.045898</td>\n",
       "      <td>3734572.25</td>\n",
       "      <td>1200.506592</td>\n",
       "      <td>1200.506592</td>\n",
       "      <td>4933494.5</td>\n",
       "      <td>29</td>\n",
       "    </tr>\n",
       "    <tr>\n",
       "      <th>30</th>\n",
       "      <td>1060.067017</td>\n",
       "      <td>1060.067017</td>\n",
       "      <td>3713439.00</td>\n",
       "      <td>1192.966553</td>\n",
       "      <td>1192.966553</td>\n",
       "      <td>4934260.0</td>\n",
       "      <td>30</td>\n",
       "    </tr>\n",
       "    <tr>\n",
       "      <th>31</th>\n",
       "      <td>1053.226074</td>\n",
       "      <td>1053.226074</td>\n",
       "      <td>3657570.25</td>\n",
       "      <td>1189.888550</td>\n",
       "      <td>1189.888550</td>\n",
       "      <td>4916455.0</td>\n",
       "      <td>31</td>\n",
       "    </tr>\n",
       "    <tr>\n",
       "      <th>32</th>\n",
       "      <td>1056.502197</td>\n",
       "      <td>1056.502197</td>\n",
       "      <td>3671040.50</td>\n",
       "      <td>1191.964233</td>\n",
       "      <td>1191.964233</td>\n",
       "      <td>4861268.5</td>\n",
       "      <td>32</td>\n",
       "    </tr>\n",
       "    <tr>\n",
       "      <th>33</th>\n",
       "      <td>1047.131714</td>\n",
       "      <td>1047.131714</td>\n",
       "      <td>3611786.50</td>\n",
       "      <td>1196.925171</td>\n",
       "      <td>1196.925171</td>\n",
       "      <td>4972345.0</td>\n",
       "      <td>33</td>\n",
       "    </tr>\n",
       "    <tr>\n",
       "      <th>34</th>\n",
       "      <td>1045.741333</td>\n",
       "      <td>1045.741333</td>\n",
       "      <td>3592800.25</td>\n",
       "      <td>1207.768555</td>\n",
       "      <td>1207.768555</td>\n",
       "      <td>4966532.0</td>\n",
       "      <td>34</td>\n",
       "    </tr>\n",
       "    <tr>\n",
       "      <th>35</th>\n",
       "      <td>1040.265503</td>\n",
       "      <td>1040.265503</td>\n",
       "      <td>3560318.00</td>\n",
       "      <td>1187.610840</td>\n",
       "      <td>1187.610840</td>\n",
       "      <td>4813108.5</td>\n",
       "      <td>35</td>\n",
       "    </tr>\n",
       "    <tr>\n",
       "      <th>36</th>\n",
       "      <td>1032.973999</td>\n",
       "      <td>1032.973999</td>\n",
       "      <td>3523601.50</td>\n",
       "      <td>1203.535522</td>\n",
       "      <td>1203.535522</td>\n",
       "      <td>4984437.0</td>\n",
       "      <td>36</td>\n",
       "    </tr>\n",
       "    <tr>\n",
       "      <th>37</th>\n",
       "      <td>1029.068481</td>\n",
       "      <td>1029.068481</td>\n",
       "      <td>3492986.50</td>\n",
       "      <td>1224.456543</td>\n",
       "      <td>1224.456543</td>\n",
       "      <td>5041933.5</td>\n",
       "      <td>37</td>\n",
       "    </tr>\n",
       "    <tr>\n",
       "      <th>38</th>\n",
       "      <td>1027.766479</td>\n",
       "      <td>1027.766479</td>\n",
       "      <td>3494268.25</td>\n",
       "      <td>1194.710327</td>\n",
       "      <td>1194.710327</td>\n",
       "      <td>4979248.5</td>\n",
       "      <td>38</td>\n",
       "    </tr>\n",
       "    <tr>\n",
       "      <th>39</th>\n",
       "      <td>1023.919067</td>\n",
       "      <td>1023.919067</td>\n",
       "      <td>3462835.50</td>\n",
       "      <td>1192.636475</td>\n",
       "      <td>1192.636475</td>\n",
       "      <td>4943887.5</td>\n",
       "      <td>39</td>\n",
       "    </tr>\n",
       "  </tbody>\n",
       "</table>\n",
       "</div>"
      ],
      "text/plain": [
       "           loss  mean_absolute_error  mean_squared_error     val_loss  \\\n",
       "0   1750.340210          1750.340210         14199230.00  1330.711304   \n",
       "1   1295.035889          1295.035889          5616612.00  1306.871216   \n",
       "2   1247.437378          1247.437378          5215384.00  1296.912109   \n",
       "3   1228.322510          1228.322510          5020020.50  1332.904785   \n",
       "4   1207.294922          1207.294922          4861611.50  1245.260498   \n",
       "5   1202.814453          1202.814453          4802244.50  1270.123657   \n",
       "6   1190.500732          1190.500732          4722640.50  1224.300659   \n",
       "7   1178.406738          1178.406738          4641424.50  1260.148071   \n",
       "8   1176.240967          1176.240967          4595206.50  1209.376099   \n",
       "9   1166.676147          1166.676147          4532618.50  1221.957886   \n",
       "10  1156.900146          1156.900146          4454748.50  1206.425659   \n",
       "11  1148.057251          1148.057251          4403125.50  1208.885620   \n",
       "12  1151.111084          1151.111084          4407906.50  1229.345459   \n",
       "13  1142.148193          1142.148193          4336243.50  1205.697876   \n",
       "14  1132.819092          1132.819092          4279358.00  1214.725220   \n",
       "15  1134.272217          1134.272217          4281900.00  1239.215210   \n",
       "16  1125.510010          1125.510010          4210091.50  1206.102173   \n",
       "17  1123.777710          1123.777710          4177943.25  1194.061401   \n",
       "18  1114.873413          1114.873413          4124764.75  1209.193726   \n",
       "19  1113.563477          1113.563477          4116261.50  1194.379028   \n",
       "20  1103.656372          1103.656372          4033761.50  1191.450073   \n",
       "21  1098.691284          1098.691284          3999989.25  1189.347778   \n",
       "22  1105.154175          1105.154175          4017569.00  1200.623657   \n",
       "23  1091.151611          1091.151611          3956643.00  1274.475586   \n",
       "24  1088.528442          1088.528442          3924823.00  1195.612061   \n",
       "25  1081.322510          1081.322510          3863075.75  1186.227783   \n",
       "26  1075.715698          1075.715698          3829805.00  1201.751343   \n",
       "27  1074.855347          1074.855347          3812422.00  1192.657837   \n",
       "28  1067.181396          1067.181396          3769660.00  1194.763184   \n",
       "29  1061.045898          1061.045898          3734572.25  1200.506592   \n",
       "30  1060.067017          1060.067017          3713439.00  1192.966553   \n",
       "31  1053.226074          1053.226074          3657570.25  1189.888550   \n",
       "32  1056.502197          1056.502197          3671040.50  1191.964233   \n",
       "33  1047.131714          1047.131714          3611786.50  1196.925171   \n",
       "34  1045.741333          1045.741333          3592800.25  1207.768555   \n",
       "35  1040.265503          1040.265503          3560318.00  1187.610840   \n",
       "36  1032.973999          1032.973999          3523601.50  1203.535522   \n",
       "37  1029.068481          1029.068481          3492986.50  1224.456543   \n",
       "38  1027.766479          1027.766479          3494268.25  1194.710327   \n",
       "39  1023.919067          1023.919067          3462835.50  1192.636475   \n",
       "\n",
       "    val_mean_absolute_error  val_mean_squared_error  epoch  \n",
       "0               1330.711304               6160239.0      0  \n",
       "1               1306.871216               5849757.5      1  \n",
       "2               1296.912109               5585404.0      2  \n",
       "3               1332.904785               5790911.0      3  \n",
       "4               1245.260498               5223697.5      4  \n",
       "5               1270.123657               5334181.0      5  \n",
       "6               1224.300659               5007758.0      6  \n",
       "7               1260.148071               5251603.5      7  \n",
       "8               1209.376099               5018150.5      8  \n",
       "9               1221.957886               5039395.0      9  \n",
       "10              1206.425659               4999266.0     10  \n",
       "11              1208.885620               5038395.0     11  \n",
       "12              1229.345459               5082184.5     12  \n",
       "13              1205.697876               4974902.5     13  \n",
       "14              1214.725220               4989851.0     14  \n",
       "15              1239.215210               5300889.0     15  \n",
       "16              1206.102173               4918565.5     16  \n",
       "17              1194.061401               4944324.5     17  \n",
       "18              1209.193726               4935494.0     18  \n",
       "19              1194.379028               4900491.5     19  \n",
       "20              1191.450073               4826789.5     20  \n",
       "21              1189.347778               4842641.5     21  \n",
       "22              1200.623657               4875038.5     22  \n",
       "23              1274.475586               5449597.5     23  \n",
       "24              1195.612061               4962988.0     24  \n",
       "25              1186.227783               4911236.0     25  \n",
       "26              1201.751343               4926968.5     26  \n",
       "27              1192.657837               4814114.5     27  \n",
       "28              1194.763184               4960702.5     28  \n",
       "29              1200.506592               4933494.5     29  \n",
       "30              1192.966553               4934260.0     30  \n",
       "31              1189.888550               4916455.0     31  \n",
       "32              1191.964233               4861268.5     32  \n",
       "33              1196.925171               4972345.0     33  \n",
       "34              1207.768555               4966532.0     34  \n",
       "35              1187.610840               4813108.5     35  \n",
       "36              1203.535522               4984437.0     36  \n",
       "37              1224.456543               5041933.5     37  \n",
       "38              1194.710327               4979248.5     38  \n",
       "39              1192.636475               4943887.5     39  "
      ]
     },
     "execution_count": 10,
     "metadata": {},
     "output_type": "execute_result"
    }
   ],
   "source": [
    "hist"
   ]
  },
  {
   "cell_type": "code",
   "execution_count": 11,
   "metadata": {},
   "outputs": [],
   "source": [
    "train_pred = model.predict(df_to_dataset(dataframe=train, target_name='price', shuffle=False, batch_size=1000)).flatten() "
   ]
  },
  {
   "cell_type": "code",
   "execution_count": 12,
   "metadata": {},
   "outputs": [
    {
     "data": {
      "text/plain": [
       "4453.78160169609"
      ]
     },
     "execution_count": 12,
     "metadata": {},
     "output_type": "execute_result"
    }
   ],
   "source": [
    "# super baseline model\n",
    "np.mean(np.abs(train.price - train.price.mean()))"
   ]
  },
  {
   "cell_type": "code",
   "execution_count": 13,
   "metadata": {},
   "outputs": [
    {
     "data": {
      "text/plain": [
       "993.8074904024581"
      ]
     },
     "execution_count": 13,
     "metadata": {},
     "output_type": "execute_result"
    }
   ],
   "source": [
    "# my model\n",
    "np.mean(np.abs(train.price - train_pred))"
   ]
  },
  {
   "cell_type": "code",
   "execution_count": 15,
   "metadata": {},
   "outputs": [
    {
     "data": {
      "image/png": "[encoded data removed]",
      "text/plain": [
       "<Figure size 432x288 with 1 Axes>"
      ]
     },
     "metadata": {
      "needs_background": "light"
     },
     "output_type": "display_data"
    }
   ],
   "source": [
    "plt.scatter(train.price, train_pred, alpha=0.3)\n",
    "plt.xlim([0, train.price.max()])\n",
    "plt.ylim([0, train.price.max()])\n",
    "plt.xlabel('True')\n",
    "plt.ylabel('Pred')\n",
    "plt.show()"
   ]
  },
  {
   "cell_type": "code",
   "execution_count": 16,
   "metadata": {},
   "outputs": [],
   "source": [
    "train['price_pred'] = train_pred\n",
    "train['abs_error'] = abs(train.price_pred - train.price)\n",
    "train['error'] = train.price_pred - train.price\n",
    "\n",
    "worst_predictions = train.copy().loc[train.abs_error >= train.abs_error.quantile(0.9)]"
   ]
  },
  {
   "cell_type": "code",
   "execution_count": 17,
   "metadata": {},
   "outputs": [
    {
     "data": {
      "text/plain": [
       "0.9108533452213595"
      ]
     },
     "execution_count": 17,
     "metadata": {},
     "output_type": "execute_result"
    }
   ],
   "source": [
    "# r squared\n",
    "ss_res = np.sum((train.price - train.price_pred)**2)\n",
    "ss_tot = np.sum((train.price - np.mean(train.price))**2)\n",
    "r2 = 1 - ss_res/ss_tot\n",
    "r2"
   ]
  },
  {
   "cell_type": "code",
   "execution_count": 18,
   "metadata": {},
   "outputs": [
    {
     "data": {
      "image/png": "[encoded data removed]",
      "text/plain": [
       "<Figure size 432x288 with 1 Axes>"
      ]
     },
     "metadata": {
      "needs_background": "light"
     },
     "output_type": "display_data"
    }
   ],
   "source": [
    "plt.hist(train.error, bins=40)\n",
    "plt.show()"
   ]
  },
  {
   "cell_type": "code",
   "execution_count": 19,
   "metadata": {},
   "outputs": [
    {
     "data": {
      "image/png": "[encoded data removed]",
      "text/plain": [
       "<Figure size 432x288 with 1 Axes>"
      ]
     },
     "metadata": {
      "needs_background": "light"
     },
     "output_type": "display_data"
    }
   ],
   "source": [
    "plt.hist(worst_predictions.price, bins=40, alpha=0.5, density=True, label='worst')\n",
    "plt.hist(train.price, bins=40, alpha=0.5, density=True, label='total')\n",
    "plt.legend()\n",
    "plt.show()"
   ]
  },
  {
   "cell_type": "code",
   "execution_count": 20,
   "metadata": {},
   "outputs": [
    {
     "data": {
      "image/png": "[encoded data removed]",
      "text/plain": [
       "<Figure size 432x288 with 1 Axes>"
      ]
     },
     "metadata": {
      "needs_background": "light"
     },
     "output_type": "display_data"
    }
   ],
   "source": [
    "plt.hist(worst_predictions.yearOfRegistration, bins=40, alpha=0.5, density=True, label='worst')\n",
    "plt.hist(train.yearOfRegistration, bins=40, alpha=0.5, density=True, label='total')\n",
    "plt.legend()\n",
    "plt.show()"
   ]
  },
  {
   "cell_type": "code",
   "execution_count": 21,
   "metadata": {},
   "outputs": [
    {
     "data": {
      "image/png": "[encoded data removed]",
      "text/plain": [
       "<Figure size 432x288 with 1 Axes>"
      ]
     },
     "metadata": {
      "needs_background": "light"
     },
     "output_type": "display_data"
    }
   ],
   "source": [
    "plt.scatter(train.price, train.abs_error)\n",
    "plt.show()"
   ]
  },
  {
   "cell_type": "code",
   "execution_count": 45,
   "metadata": {},
   "outputs": [
    {
     "data": {
      "image/png": "[encoded data removed]",
      "text/plain": [
       "<Figure size 432x288 with 1 Axes>"
      ]
     },
     "metadata": {
      "needs_background": "light"
     },
     "output_type": "display_data"
    }
   ],
   "source": [
    "plt.hist(train.price_pred, bins=40, alpha=0.5, density=True)\n",
    "plt.hist(train.price, bins=40, alpha=0.5, density=True)\n",
    "plt.show()"
   ]
  },
  {
   "cell_type": "code",
   "execution_count": 46,
   "metadata": {},
   "outputs": [
    {
     "name": "stdout",
     "output_type": "stream",
     "text": [
      "4500\n",
      "1981.3966\n"
     ]
    }
   ],
   "source": [
    "i = 9000\n",
    "print(train.price[i])\n",
    "print(train.price_pred[i])"
   ]
  },
  {
   "cell_type": "code",
   "execution_count": 84,
   "metadata": {},
   "outputs": [
    {
     "data": {
      "text/plain": [
       "3140.270146492555"
      ]
     },
     "execution_count": 84,
     "metadata": {},
     "output_type": "execute_result"
    }
   ],
   "source": [
    "train.price.mean()"
   ]
  }
 ],
 "metadata": {
  "kernelspec": {
   "display_name": "carskernel",
   "language": "python",
   "name": "carskernel"
  },
  "language_info": {
   "codemirror_mode": {
    "name": "ipython",
    "version": 3
   },
   "file_extension": ".py",
   "mimetype": "text/x-python",
   "name": "python",
   "nbconvert_exporter": "python",
   "pygments_lexer": "ipython3",
   "version": "3.8.1"
  }
 },
 "nbformat": 4,
 "nbformat_minor": 4
}
