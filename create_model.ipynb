{
 "cells": [
  {
   "cell_type": "markdown",
   "metadata": {},
   "source": [
    "# Create model arquitecture"
   ]
  },
  {
   "cell_type": "code",
   "execution_count": 48,
   "metadata": {},
   "outputs": [],
   "source": [
    "from tensorflow.keras import layers\n",
    "from tensorflow import keras, dtypes\n",
    "from tensorflow.data import Dataset\n",
    "from tensorflow import feature_column\n",
    "\n",
    "from preprocess_tf import preprocessing_fn\n",
    "\n",
    "import matplotlib.pyplot as plt\n",
    "import pandas as pd\n",
    "\n",
    "import tensorflow_docs as tfdocs\n",
    "import tensorflow_docs.plots\n",
    "import tensorflow_docs.modeling"
   ]
  },
  {
   "cell_type": "code",
   "execution_count": 2,
   "metadata": {},
   "outputs": [],
   "source": [
    "# A utility method to create a tf.data dataset from a Pandas Dataframe\n",
    "def df_to_dataset(dataframe, target_name, shuffle=True, batch_size=100):\n",
    "    dataframe = dataframe.copy()\n",
    "    targets = dataframe.pop(target_name)\n",
    "    ds = Dataset.from_tensor_slices((dict(dataframe), targets))\n",
    "    if shuffle:\n",
    "        ds = ds.shuffle(buffer_size=len(dataframe))\n",
    "        ds = ds.batch(batch_size)\n",
    "    return ds"
   ]
  },
  {
   "cell_type": "code",
   "execution_count": 3,
   "metadata": {},
   "outputs": [],
   "source": [
    "def set_numerical_feature(name):\n",
    "    \n",
    "    numerical_feature = feature_column.numeric_column(name, dtype=dtypes.float64)\n",
    "    \n",
    "    return numerical_feature\n",
    "    \n",
    "def set_one_hot_feature(name, data):\n",
    "    one_hot_feature = feature_column.categorical_column_with_vocabulary_list(name, data[name].unique().tolist())\n",
    "    one_hot_feature = feature_column.indicator_column(one_hot_feature)\n",
    "    \n",
    "    return one_hot_feature\n",
    "\n",
    "def set_embedding_feature(name, data, dims):\n",
    "    embedding_feature = feature_column.categorical_column_with_vocabulary_list(name, data[name].unique().tolist())\n",
    "    embedding_feature = feature_column.embedding_column(embedding_feature, dimension=dims)\n",
    "    \n",
    "    return embedding_feature"
   ]
  },
  {
   "cell_type": "code",
   "execution_count": 4,
   "metadata": {},
   "outputs": [],
   "source": [
    "def feature_columns(data, dataset):\n",
    "    \n",
    "    feature_columns = []\n",
    "\n",
    "    # numeric cols\n",
    "    for header in ['yearOfRegistration', 'powerPS', 'kilometer']:\n",
    "        feature_columns.append(set_numerical_feature(header))\n",
    "\n",
    "    feature_columns.append(set_one_hot_feature('abtest', data))\n",
    "    \n",
    "    feature_columns.append(set_embedding_feature('vehicleType', data, 4))\n",
    "    \n",
    "    feature_columns.append(set_one_hot_feature('gearbox', data))\n",
    "    \n",
    "    feature_columns.append(set_embedding_feature('model', data, 8))\n",
    "    \n",
    "    feature_columns.append(set_one_hot_feature('fuelType', data))\n",
    "    \n",
    "    feature_columns.append(set_embedding_feature('brand', data, 6))\n",
    "    \n",
    "    feature_columns.append(set_one_hot_feature('notRepairedDamage', data))\n",
    "    \n",
    "    feature_columns.append(set_embedding_feature('postalCode', data, 10))\n",
    "    \n",
    "\n",
    "    feature_layer = layers.DenseFeatures(feature_columns)\n",
    "    \n",
    "    return(feature_layer)"
   ]
  },
  {
   "cell_type": "code",
   "execution_count": 19,
   "metadata": {},
   "outputs": [],
   "source": [
    "train = preprocessing_fn(path='data/train.csv', na_encoding='data/gearbox_powerps_na.csv', norm_params='data/numerical_features_normalization.csv')\n",
    "val = preprocessing_fn(path='data/val.csv', na_encoding='data/gearbox_powerps_na.csv', norm_params='data/numerical_features_normalization.csv')"
   ]
  },
  {
   "cell_type": "code",
   "execution_count": 20,
   "metadata": {},
   "outputs": [
    {
     "data": {
      "text/plain": [
       "dateCrawled             object\n",
       "name                    object\n",
       "seller                  object\n",
       "offerType               object\n",
       "price                    int64\n",
       "abtest                  object\n",
       "vehicleType             object\n",
       "yearOfRegistration     float32\n",
       "gearbox                 object\n",
       "powerPS                float32\n",
       "model                   object\n",
       "kilometer              float32\n",
       "monthOfRegistration      int64\n",
       "fuelType                object\n",
       "brand                   object\n",
       "notRepairedDamage       object\n",
       "dateCreated             object\n",
       "nrOfPictures             int64\n",
       "postalCode               int64\n",
       "lastSeen                object\n",
       "dtype: object"
      ]
     },
     "execution_count": 20,
     "metadata": {},
     "output_type": "execute_result"
    }
   ],
   "source": [
    "train.dtypes"
   ]
  },
  {
   "cell_type": "code",
   "execution_count": 24,
   "metadata": {},
   "outputs": [],
   "source": [
    "train_ds = df_to_dataset(dataframe=train, target_name='price', shuffle=True, batch_size=200)\n",
    "val_ds = df_to_dataset(dataframe=val, target_name='price', shuffle=True, batch_size=200)"
   ]
  },
  {
   "cell_type": "code",
   "execution_count": 25,
   "metadata": {},
   "outputs": [],
   "source": [
    "feature_layer = feature_columns(train, train_ds)"
   ]
  },
  {
   "cell_type": "code",
   "execution_count": null,
   "metadata": {},
   "outputs": [],
   "source": [
    "\n",
    "# x = layers.Dense(100, activation='relu')(feature_layer)\n",
    "\n",
    "# x = layers.Dense(100, activation='relu')(x)\n",
    "\n",
    "# output = layers.Dense(1, activation='relu')(x)\n",
    "\n",
    "# model = keras.Model(inputs=feature_layer, outputs=output, name=\"my_model\")"
   ]
  },
  {
   "cell_type": "code",
   "execution_count": 55,
   "metadata": {},
   "outputs": [
    {
     "name": "stdout",
     "output_type": "stream",
     "text": [
      "Epoch 1/15\n",
      "970/970 [==============================] - 18s 19ms/step - loss: 2501.8176 - mean_absolute_error: 2501.8176 - mean_squared_error: 18478010.0000 - val_loss: 1441.0879 - val_mean_absolute_error: 1441.0879 - val_mean_squared_error: 6007717.5000\n",
      "Epoch 2/15\n",
      "970/970 [==============================] - 18s 18ms/step - loss: 1329.0837 - mean_absolute_error: 1329.0837 - mean_squared_error: 4742922.5000 - val_loss: 1686.4180 - val_mean_absolute_error: 1686.4180 - val_mean_squared_error: 582704768.0000\n",
      "Epoch 3/15\n",
      "970/970 [==============================] - 18s 18ms/step - loss: 1237.8044 - mean_absolute_error: 1237.8044 - mean_squared_error: 4063925.0000 - val_loss: 1820.6105 - val_mean_absolute_error: 1820.6105 - val_mean_squared_error: 845606784.0000\n",
      "Epoch 4/15\n",
      "970/970 [==============================] - 22s 22ms/step - loss: 1204.1576 - mean_absolute_error: 1204.1576 - mean_squared_error: 3829397.2500 - val_loss: 2268.1924 - val_mean_absolute_error: 2268.1924 - val_mean_squared_error: 3975843072.0000\n",
      "Epoch 5/15\n",
      "970/970 [==============================] - 23s 23ms/step - loss: 1177.6575 - mean_absolute_error: 1177.6575 - mean_squared_error: 3650519.5000 - val_loss: 2233.1936 - val_mean_absolute_error: 2233.1936 - val_mean_squared_error: 3238203392.0000\n",
      "Epoch 6/15\n",
      "970/970 [==============================] - 22s 23ms/step - loss: 1160.8207 - mean_absolute_error: 1160.8207 - mean_squared_error: 3530228.7500 - val_loss: 2008.9861 - val_mean_absolute_error: 2008.9861 - val_mean_squared_error: 1292224384.0000\n",
      "Epoch 7/15\n",
      "970/970 [==============================] - 22s 23ms/step - loss: 1146.5094 - mean_absolute_error: 1146.5094 - mean_squared_error: 3455232.5000 - val_loss: 1975.1522 - val_mean_absolute_error: 1975.1522 - val_mean_squared_error: 1531208192.0000\n",
      "Epoch 8/15\n",
      "970/970 [==============================] - 22s 23ms/step - loss: 1137.7468 - mean_absolute_error: 1137.7468 - mean_squared_error: 3396470.2500 - val_loss: 2287.5225 - val_mean_absolute_error: 2287.5225 - val_mean_squared_error: 3781892096.0000\n",
      "Epoch 9/15\n",
      "970/970 [==============================] - 22s 23ms/step - loss: 1134.4095 - mean_absolute_error: 1134.4095 - mean_squared_error: 3383429.7500 - val_loss: 1886.6853 - val_mean_absolute_error: 1886.6853 - val_mean_squared_error: 1252200832.0000\n",
      "Epoch 10/15\n",
      "970/970 [==============================] - 22s 23ms/step - loss: 1116.8506 - mean_absolute_error: 1116.8507 - mean_squared_error: 3284312.2500 - val_loss: 1946.6826 - val_mean_absolute_error: 1946.6826 - val_mean_squared_error: 923675264.0000\n",
      "Epoch 11/15\n",
      "970/970 [==============================] - 23s 23ms/step - loss: 1120.3915 - mean_absolute_error: 1120.3914 - mean_squared_error: 3295402.5000 - val_loss: 2069.1570 - val_mean_absolute_error: 2069.1570 - val_mean_squared_error: 2088688384.0000\n",
      "Epoch 12/15\n",
      "970/970 [==============================] - 22s 23ms/step - loss: 1108.9441 - mean_absolute_error: 1108.9441 - mean_squared_error: 3244425.0000 - val_loss: 1431.9034 - val_mean_absolute_error: 1431.9034 - val_mean_squared_error: 10982722.0000\n",
      "Epoch 13/15\n",
      "970/970 [==============================] - 22s 23ms/step - loss: 1100.8489 - mean_absolute_error: 1100.8490 - mean_squared_error: 3179977.5000 - val_loss: 1580.5371 - val_mean_absolute_error: 1580.5371 - val_mean_squared_error: 38870184.0000\n",
      "Epoch 14/15\n",
      "970/970 [==============================] - 24s 25ms/step - loss: 1094.2642 - mean_absolute_error: 1094.2642 - mean_squared_error: 3160284.7500 - val_loss: 1515.8291 - val_mean_absolute_error: 1515.8291 - val_mean_squared_error: 28056572.0000\n",
      "Epoch 15/15\n",
      "970/970 [==============================] - 23s 24ms/step - loss: 1085.7179 - mean_absolute_error: 1085.7180 - mean_squared_error: 3109073.7500 - val_loss: 1464.6637 - val_mean_absolute_error: 1464.6637 - val_mean_squared_error: 25329828.0000\n"
     ]
    }
   ],
   "source": [
    "dp_rate = 0.2\n",
    "lr = 0.001\n",
    "hu = 150\n",
    "\n",
    "model = keras.Sequential([\n",
    "    feature_layer,\n",
    "    layers.BatchNormalization(),\n",
    "    layers.Dense(60, activation='relu'),\n",
    "    layers.Dropout(rate=dp_rate),\n",
    "    layers.BatchNormalization(),\n",
    "    layers.Dense(120, activation='relu'),\n",
    "    #layers.Dropout(rate=dp_rate),\n",
    "    layers.BatchNormalization(),\n",
    "    layers.Dense(120, activation='relu'),\n",
    "    layers.Dropout(rate=dp_rate),\n",
    "    layers.BatchNormalization(),\n",
    "    layers.Dense(120, activation='relu'),\n",
    "    #layers.Dropout(rate=dp_rate),\n",
    "    layers.BatchNormalization(),\n",
    "    layers.Dense(240, activation='relu'),\n",
    "    layers.Dropout(rate=dp_rate),\n",
    "    layers.BatchNormalization(),\n",
    "    layers.Dense(240, activation='relu'),\n",
    "    #layers.Dropout(rate=dp_rate),\n",
    "    layers.BatchNormalization(),\n",
    "    layers.Dense(120, activation='relu'),\n",
    "    layers.Dropout(rate=dp_rate),\n",
    "    layers.BatchNormalization(),\n",
    "    layers.Dense(120, activation='relu'),\n",
    "    #layers.Dropout(rate=dp_rate),\n",
    "    layers.BatchNormalization(),\n",
    "    layers.Dense(120, activation='relu'),\n",
    "    layers.Dropout(rate=dp_rate),\n",
    "    layers.Dense(1, activation='relu')\n",
    "])\n",
    "\n",
    "# Compile Keras model\n",
    "model.compile(\n",
    "    loss='mean_absolute_error',\n",
    "    metrics=['mean_absolute_error','mean_squared_error'],\n",
    "    optimizer=keras.optimizers.Adam(learning_rate=lr))\n",
    "\n",
    "history = model.fit(\n",
    "    train_ds,\n",
    "    validation_data=val_ds,\n",
    "    epochs=15\n",
    ")"
   ]
  },
  {
   "cell_type": "code",
   "execution_count": 57,
   "metadata": {},
   "outputs": [
    {
     "data": {
      "text/html": [
       "<div>\n",
       "<style scoped>\n",
       "    .dataframe tbody tr th:only-of-type {\n",
       "        vertical-align: middle;\n",
       "    }\n",
       "\n",
       "    .dataframe tbody tr th {\n",
       "        vertical-align: top;\n",
       "    }\n",
       "\n",
       "    .dataframe thead th {\n",
       "        text-align: right;\n",
       "    }\n",
       "</style>\n",
       "<table border=\"1\" class=\"dataframe\">\n",
       "  <thead>\n",
       "    <tr style=\"text-align: right;\">\n",
       "      <th></th>\n",
       "      <th>loss</th>\n",
       "      <th>mean_absolute_error</th>\n",
       "      <th>mean_squared_error</th>\n",
       "      <th>val_loss</th>\n",
       "      <th>val_mean_absolute_error</th>\n",
       "      <th>val_mean_squared_error</th>\n",
       "      <th>epoch</th>\n",
       "    </tr>\n",
       "  </thead>\n",
       "  <tbody>\n",
       "    <tr>\n",
       "      <th>0</th>\n",
       "      <td>2501.817627</td>\n",
       "      <td>2501.817627</td>\n",
       "      <td>18478010.00</td>\n",
       "      <td>1441.087891</td>\n",
       "      <td>1441.087891</td>\n",
       "      <td>6.007718e+06</td>\n",
       "      <td>0</td>\n",
       "    </tr>\n",
       "    <tr>\n",
       "      <th>1</th>\n",
       "      <td>1329.083740</td>\n",
       "      <td>1329.083740</td>\n",
       "      <td>4742922.50</td>\n",
       "      <td>1686.417969</td>\n",
       "      <td>1686.417969</td>\n",
       "      <td>5.827048e+08</td>\n",
       "      <td>1</td>\n",
       "    </tr>\n",
       "    <tr>\n",
       "      <th>2</th>\n",
       "      <td>1237.804443</td>\n",
       "      <td>1237.804443</td>\n",
       "      <td>4063925.00</td>\n",
       "      <td>1820.610474</td>\n",
       "      <td>1820.610474</td>\n",
       "      <td>8.456068e+08</td>\n",
       "      <td>2</td>\n",
       "    </tr>\n",
       "    <tr>\n",
       "      <th>3</th>\n",
       "      <td>1204.157593</td>\n",
       "      <td>1204.157593</td>\n",
       "      <td>3829397.25</td>\n",
       "      <td>2268.192383</td>\n",
       "      <td>2268.192383</td>\n",
       "      <td>3.975843e+09</td>\n",
       "      <td>3</td>\n",
       "    </tr>\n",
       "    <tr>\n",
       "      <th>4</th>\n",
       "      <td>1177.657471</td>\n",
       "      <td>1177.657471</td>\n",
       "      <td>3650519.50</td>\n",
       "      <td>2233.193604</td>\n",
       "      <td>2233.193604</td>\n",
       "      <td>3.238203e+09</td>\n",
       "      <td>4</td>\n",
       "    </tr>\n",
       "    <tr>\n",
       "      <th>5</th>\n",
       "      <td>1160.820679</td>\n",
       "      <td>1160.820679</td>\n",
       "      <td>3530228.75</td>\n",
       "      <td>2008.986084</td>\n",
       "      <td>2008.986084</td>\n",
       "      <td>1.292224e+09</td>\n",
       "      <td>5</td>\n",
       "    </tr>\n",
       "    <tr>\n",
       "      <th>6</th>\n",
       "      <td>1146.509399</td>\n",
       "      <td>1146.509399</td>\n",
       "      <td>3455232.50</td>\n",
       "      <td>1975.152222</td>\n",
       "      <td>1975.152222</td>\n",
       "      <td>1.531208e+09</td>\n",
       "      <td>6</td>\n",
       "    </tr>\n",
       "    <tr>\n",
       "      <th>7</th>\n",
       "      <td>1137.746826</td>\n",
       "      <td>1137.746826</td>\n",
       "      <td>3396470.25</td>\n",
       "      <td>2287.522461</td>\n",
       "      <td>2287.522461</td>\n",
       "      <td>3.781892e+09</td>\n",
       "      <td>7</td>\n",
       "    </tr>\n",
       "    <tr>\n",
       "      <th>8</th>\n",
       "      <td>1134.409546</td>\n",
       "      <td>1134.409546</td>\n",
       "      <td>3383429.75</td>\n",
       "      <td>1886.685303</td>\n",
       "      <td>1886.685303</td>\n",
       "      <td>1.252201e+09</td>\n",
       "      <td>8</td>\n",
       "    </tr>\n",
       "    <tr>\n",
       "      <th>9</th>\n",
       "      <td>1116.850586</td>\n",
       "      <td>1116.850708</td>\n",
       "      <td>3284312.25</td>\n",
       "      <td>1946.682617</td>\n",
       "      <td>1946.682617</td>\n",
       "      <td>9.236753e+08</td>\n",
       "      <td>9</td>\n",
       "    </tr>\n",
       "    <tr>\n",
       "      <th>10</th>\n",
       "      <td>1120.391479</td>\n",
       "      <td>1120.391357</td>\n",
       "      <td>3295402.50</td>\n",
       "      <td>2069.156982</td>\n",
       "      <td>2069.156982</td>\n",
       "      <td>2.088688e+09</td>\n",
       "      <td>10</td>\n",
       "    </tr>\n",
       "    <tr>\n",
       "      <th>11</th>\n",
       "      <td>1108.944092</td>\n",
       "      <td>1108.944092</td>\n",
       "      <td>3244425.00</td>\n",
       "      <td>1431.903442</td>\n",
       "      <td>1431.903442</td>\n",
       "      <td>1.098272e+07</td>\n",
       "      <td>11</td>\n",
       "    </tr>\n",
       "    <tr>\n",
       "      <th>12</th>\n",
       "      <td>1100.848877</td>\n",
       "      <td>1100.848999</td>\n",
       "      <td>3179977.50</td>\n",
       "      <td>1580.537109</td>\n",
       "      <td>1580.537109</td>\n",
       "      <td>3.887018e+07</td>\n",
       "      <td>12</td>\n",
       "    </tr>\n",
       "    <tr>\n",
       "      <th>13</th>\n",
       "      <td>1094.264160</td>\n",
       "      <td>1094.264160</td>\n",
       "      <td>3160284.75</td>\n",
       "      <td>1515.829102</td>\n",
       "      <td>1515.829102</td>\n",
       "      <td>2.805657e+07</td>\n",
       "      <td>13</td>\n",
       "    </tr>\n",
       "    <tr>\n",
       "      <th>14</th>\n",
       "      <td>1085.717896</td>\n",
       "      <td>1085.718018</td>\n",
       "      <td>3109073.75</td>\n",
       "      <td>1464.663696</td>\n",
       "      <td>1464.663696</td>\n",
       "      <td>2.532983e+07</td>\n",
       "      <td>14</td>\n",
       "    </tr>\n",
       "  </tbody>\n",
       "</table>\n",
       "</div>"
      ],
      "text/plain": [
       "           loss  mean_absolute_error  mean_squared_error     val_loss  \\\n",
       "0   2501.817627          2501.817627         18478010.00  1441.087891   \n",
       "1   1329.083740          1329.083740          4742922.50  1686.417969   \n",
       "2   1237.804443          1237.804443          4063925.00  1820.610474   \n",
       "3   1204.157593          1204.157593          3829397.25  2268.192383   \n",
       "4   1177.657471          1177.657471          3650519.50  2233.193604   \n",
       "5   1160.820679          1160.820679          3530228.75  2008.986084   \n",
       "6   1146.509399          1146.509399          3455232.50  1975.152222   \n",
       "7   1137.746826          1137.746826          3396470.25  2287.522461   \n",
       "8   1134.409546          1134.409546          3383429.75  1886.685303   \n",
       "9   1116.850586          1116.850708          3284312.25  1946.682617   \n",
       "10  1120.391479          1120.391357          3295402.50  2069.156982   \n",
       "11  1108.944092          1108.944092          3244425.00  1431.903442   \n",
       "12  1100.848877          1100.848999          3179977.50  1580.537109   \n",
       "13  1094.264160          1094.264160          3160284.75  1515.829102   \n",
       "14  1085.717896          1085.718018          3109073.75  1464.663696   \n",
       "\n",
       "    val_mean_absolute_error  val_mean_squared_error  epoch  \n",
       "0               1441.087891            6.007718e+06      0  \n",
       "1               1686.417969            5.827048e+08      1  \n",
       "2               1820.610474            8.456068e+08      2  \n",
       "3               2268.192383            3.975843e+09      3  \n",
       "4               2233.193604            3.238203e+09      4  \n",
       "5               2008.986084            1.292224e+09      5  \n",
       "6               1975.152222            1.531208e+09      6  \n",
       "7               2287.522461            3.781892e+09      7  \n",
       "8               1886.685303            1.252201e+09      8  \n",
       "9               1946.682617            9.236753e+08      9  \n",
       "10              2069.156982            2.088688e+09     10  \n",
       "11              1431.903442            1.098272e+07     11  \n",
       "12              1580.537109            3.887018e+07     12  \n",
       "13              1515.829102            2.805657e+07     13  \n",
       "14              1464.663696            2.532983e+07     14  "
      ]
     },
     "execution_count": 57,
     "metadata": {},
     "output_type": "execute_result"
    }
   ],
   "source": [
    "hist"
   ]
  },
  {
   "cell_type": "code",
   "execution_count": 73,
   "metadata": {},
   "outputs": [
    {
     "data": {
      "text/plain": [
       "[<matplotlib.lines.Line2D at 0x21c80b39610>]"
      ]
     },
     "execution_count": 73,
     "metadata": {},
     "output_type": "execute_result"
    },
    {
     "data": {
      "image/png": "[encoded data removed]",
      "text/plain": [
       "<Figure size 432x288 with 1 Axes>"
      ]
     },
     "metadata": {
      "needs_background": "light"
     },
     "output_type": "display_data"
    }
   ],
   "source": [
    "hist = pd.DataFrame(history.history)\n",
    "hist['epoch'] = history.epoch\n",
    "\n",
    "plt.plot(hist.epoch, hist.mean_absolute_error)\n",
    "plt.plot(hist.epoch, hist.val_mean_absolute_error)"
   ]
  },
  {
   "cell_type": "code",
   "execution_count": 33,
   "metadata": {},
   "outputs": [],
   "source": [
    "train_pred = model.predict(train_ds).flatten()"
   ]
  },
  {
   "cell_type": "code",
   "execution_count": 37,
   "metadata": {},
   "outputs": [
    {
     "data": {
      "image/png": "[encoded data removed]",
      "text/plain": [
       "<Figure size 432x288 with 1 Axes>"
      ]
     },
     "metadata": {
      "needs_background": "light"
     },
     "output_type": "display_data"
    }
   ],
   "source": [
    "# a = plt.axes(aspect='equal')\n",
    "plt.scatter(train.price, preds)\n",
    "plt.xlabel('True Values')\n",
    "plt.ylabel('Predictions')\n",
    "plt.show()"
   ]
  },
  {
   "cell_type": "code",
   "execution_count": 41,
   "metadata": {},
   "outputs": [
    {
     "data": {
      "image/png": "[encoded data removed]",
      "text/plain": [
       "<Figure size 432x288 with 1 Axes>"
      ]
     },
     "metadata": {
      "needs_background": "light"
     },
     "output_type": "display_data"
    }
   ],
   "source": [
    "plt.hist(preds, bins=40)\n",
    "plt.show()"
   ]
  },
  {
   "cell_type": "code",
   "execution_count": 42,
   "metadata": {},
   "outputs": [
    {
     "data": {
      "image/png": "[encoded data removed]",
      "text/plain": [
       "<Figure size 432x288 with 1 Axes>"
      ]
     },
     "metadata": {
      "needs_background": "light"
     },
     "output_type": "display_data"
    }
   ],
   "source": [
    "plt.hist(train.price, bins=40)\n",
    "plt.show()"
   ]
  },
  {
   "cell_type": "code",
   "execution_count": 40,
   "metadata": {},
   "outputs": [
    {
     "data": {
      "image/png": "[encoded data removed]",
      "text/plain": [
       "<Figure size 432x288 with 1 Axes>"
      ]
     },
     "metadata": {
      "needs_background": "light"
     },
     "output_type": "display_data"
    }
   ],
   "source": [
    "plt.hist(train.price - preds, bins=40)\n",
    "plt.show()"
   ]
  },
  {
   "cell_type": "code",
   "execution_count": 14,
   "metadata": {},
   "outputs": [
    {
     "data": {
      "text/plain": [
       "count    1.998190e+05\n",
       "mean     7.090404e+03\n",
       "std      1.089688e+05\n",
       "min      1.000000e+00\n",
       "25%      1.250000e+03\n",
       "50%      3.000000e+03\n",
       "75%      7.490000e+03\n",
       "max      1.400050e+07\n",
       "Name: price, dtype: float64"
      ]
     },
     "execution_count": 14,
     "metadata": {},
     "output_type": "execute_result"
    }
   ],
   "source": [
    "train.price.describe()"
   ]
  },
  {
   "cell_type": "code",
   "execution_count": 15,
   "metadata": {},
   "outputs": [
    {
     "data": {
      "text/plain": [
       "count    5.049900e+04\n",
       "mean     8.969192e+03\n",
       "std      3.661537e+05\n",
       "min      1.000000e+00\n",
       "25%      1.250000e+03\n",
       "50%      3.000000e+03\n",
       "75%      7.500000e+03\n",
       "max      7.418530e+07\n",
       "Name: price, dtype: float64"
      ]
     },
     "execution_count": 15,
     "metadata": {},
     "output_type": "execute_result"
    }
   ],
   "source": [
    "val.price.describe()"
   ]
  }
 ],
 "metadata": {
  "kernelspec": {
   "display_name": "carskernel",
   "language": "python",
   "name": "carskernel"
  },
  "language_info": {
   "codemirror_mode": {
    "name": "ipython",
    "version": 3
   },
   "file_extension": ".py",
   "mimetype": "text/x-python",
   "name": "python",
   "nbconvert_exporter": "python",
   "pygments_lexer": "ipython3",
   "version": "3.8.1"
  }
 },
 "nbformat": 4,
 "nbformat_minor": 4
}
