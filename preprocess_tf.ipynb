{
 "cells": [
  {
   "cell_type": "markdown",
   "metadata": {},
   "source": [
    "# Preprocessing data"
   ]
  },
  {
   "cell_type": "markdown",
   "metadata": {},
   "source": [
    "Filtering data, splitting datasets and creating clustering data and num. features normalization data."
   ]
  },
  {
   "cell_type": "code",
   "execution_count": 1,
   "metadata": {},
   "outputs": [],
   "source": [
    "import pandas as pd\n",
    "import numpy as np\n",
    "import tensorflow as tf\n",
    "from tensorflow.keras import layers\n",
    "from sklearn.model_selection import train_test_split\n",
    "from sklearn.cluster import KMeans\n",
    "import matplotlib.pyplot as plt\n",
    "import seaborn as sns"
   ]
  },
  {
   "cell_type": "code",
   "execution_count": 2,
   "metadata": {},
   "outputs": [],
   "source": [
    "data = pd.read_csv('data/autos.csv', encoding='cp1252', index_col=None)"
   ]
  },
  {
   "cell_type": "code",
   "execution_count": 3,
   "metadata": {},
   "outputs": [
    {
     "data": {
      "text/plain": [
       "(155417, 11)"
      ]
     },
     "execution_count": 3,
     "metadata": {},
     "output_type": "execute_result"
    }
   ],
   "source": [
    "# Brands selection and remove outliers\n",
    "data = data.loc[(data.brand.isin(['ford','opel','volkswagen','renault'])) & (data.price < 60000) & (data.price > 0),]\n",
    "data = data.loc[(data.yearOfRegistration >= 1970) & (data.yearOfRegistration <= 2017)]\n",
    "# replace 'andere' (otro)\n",
    "data.loc[data.model == 'andere', 'model'] = np.nan\n",
    "data.loc[data.gearbox == 'andere', 'gearbox'] = np.nan\n",
    "data.loc[data.vehicleType == 'andere', 'vehicleType'] = np.nan\n",
    "data.loc[data.fuelType == 'andere', 'fuelType'] = np.nan\n",
    "data.loc[data.notRepairedDamage == 'andere', 'notRepairedDamage'] = np.nan\n",
    "\n",
    "data = data.loc[:,['price','yearOfRegistration','brand','model','kilometer','powerPS','abtest', 'fuelType', 'vehicleType', 'gearbox','notRepairedDamage']]\n",
    "\n",
    "data.shape"
   ]
  },
  {
   "cell_type": "code",
   "execution_count": 5,
   "metadata": {},
   "outputs": [],
   "source": [
    "# Split data\n",
    "train, test = train_test_split(data, test_size=0.3, random_state=666)\n",
    "train, val = train_test_split(train, test_size=0.2, random_state=666)\n",
    "\n",
    "train = train.reset_index(drop=True)\n",
    "val = val.reset_index(drop=True)\n",
    "test = test.reset_index(drop=True)\n",
    "\n",
    "# save data\n",
    "train.to_csv('data/train.csv', sep=',', index=False)\n",
    "val.to_csv('data/val.csv', sep=',', index=False)\n",
    "test.to_csv('data/test.csv', sep=',', index=False)"
   ]
  },
  {
   "cell_type": "code",
   "execution_count": 6,
   "metadata": {},
   "outputs": [
    {
     "data": {
      "image/png": "[encoded data removed]",
      "text/plain": [
       "<Figure size 360x360 with 1 Axes>"
      ]
     },
     "metadata": {
      "needs_background": "light"
     },
     "output_type": "display_data"
    }
   ],
   "source": [
    "# Clustering categorical features\n",
    "\n",
    "## Model\n",
    "model_price_train = train.copy().dropna().loc[:,['model','price']]\n",
    "model_price_train = model_price_train.groupby(['model']).mean()\n",
    "\n",
    "model_clustering = KMeans(n_clusters=10, random_state=666)\n",
    "model_clustering.fit(np.expand_dims(model_price_train.price.values, axis=1))\n",
    "models_clustered = model_clustering.predict(np.expand_dims(model_price_train.price.values, axis=1))\n",
    "\n",
    "model_clusters = pd.DataFrame({'model': model_price_train.index.values, 'cluster_model': models_clustered, 'mean_price': model_price_train.loc[:,'price']}).reset_index(drop=True)\n",
    "\n",
    "sns.catplot(x='cluster_model', y='mean_price', kind=\"box\", data=model_clusters)\n",
    "plt.show()\n",
    "\n",
    "###########\n",
    "model_clusters.loc[:,['cluster_model', 'model']].to_csv('data/model_clusters.csv', sep=',', index=False)\n",
    "###########"
   ]
  },
  {
   "cell_type": "code",
   "execution_count": 7,
   "metadata": {},
   "outputs": [],
   "source": [
    "# Normalize numerical features\n",
    "numerical_features = ['yearOfRegistration', 'powerPS', 'kilometer']\n",
    "\n",
    "train.yearOfRegistration = 2017 - train.yearOfRegistration\n",
    "\n",
    "numerical_features_normalization = pd.DataFrame({\n",
    "    'feature': numerical_features,\n",
    "    'mean': [np.mean(train[x]) for x in numerical_features],\n",
    "    'std': [np.std(train[x]) for x in numerical_features]\n",
    "})\n",
    "\n",
    "numerical_features_normalization\n",
    "\n",
    "# save normalization parameters\n",
    "###########\n",
    "numerical_features_normalization.to_csv('data/numerical_features_normalization.csv', sep=\",\", index=False)\n",
    "###########"
   ]
  }
 ],
 "metadata": {
  "kernelspec": {
   "display_name": "carskernel",
   "language": "python",
   "name": "carskernel"
  },
  "language_info": {
   "codemirror_mode": {
    "name": "ipython",
    "version": 3
   },
   "file_extension": ".py",
   "mimetype": "text/x-python",
   "name": "python",
   "nbconvert_exporter": "python",
   "pygments_lexer": "ipython3",
   "version": "3.8.1"
  }
 },
 "nbformat": 4,
 "nbformat_minor": 4
}
